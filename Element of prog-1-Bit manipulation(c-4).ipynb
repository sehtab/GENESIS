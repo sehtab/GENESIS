{
 "cells": [
  {
   "cell_type": "markdown",
   "metadata": {},
   "source": [
    "# 1. count number of bits"
   ]
  },
  {
   "cell_type": "code",
   "execution_count": 4,
   "metadata": {},
   "outputs": [
    {
     "data": {
      "text/plain": [
       "2"
      ]
     },
     "execution_count": 4,
     "metadata": {},
     "output_type": "execute_result"
    }
   ],
   "source": [
    "def count_bits(x):\n",
    "    num_bits = 0\n",
    "    while x:\n",
    "        x >>= 1\n",
    "        num_bits += x & 1\n",
    "        #x >>= 1\n",
    "    return num_bits\n",
    "count_bits(10)"
   ]
  },
  {
   "cell_type": "markdown",
   "metadata": {},
   "source": [
    "# 2. Parity of a very large number"
   ]
  },
  {
   "cell_type": "code",
   "execution_count": 2,
   "metadata": {},
   "outputs": [
    {
     "data": {
      "text/plain": [
       "0"
      ]
     },
     "execution_count": 2,
     "metadata": {},
     "output_type": "execute_result"
    }
   ],
   "source": [
    "def parity(x):\n",
    "    result = 0\n",
    "    while x:\n",
    "        result ^= x & 1\n",
    "        x >>=1\n",
    "    return result\n",
    "parity(10)"
   ]
  },
  {
   "cell_type": "code",
   "execution_count": 3,
   "metadata": {},
   "outputs": [
    {
     "data": {
      "text/plain": [
       "0"
      ]
     },
     "execution_count": 3,
     "metadata": {},
     "output_type": "execute_result"
    }
   ],
   "source": [
    "def parity(x):\n",
    "    \n",
    "    result = 0\n",
    "    while x:\n",
    "        x >>=1\n",
    "        result ^= x & 1\n",
    "        \n",
    "    return result\n",
    "parity(10)"
   ]
  },
  {
   "cell_type": "code",
   "execution_count": 5,
   "metadata": {},
   "outputs": [
    {
     "data": {
      "text/plain": [
       "0"
      ]
     },
     "execution_count": 5,
     "metadata": {},
     "output_type": "execute_result"
    }
   ],
   "source": [
    "def parity(x):\n",
    "    result = 0\n",
    "    while x:\n",
    "        \n",
    "        x &= x - 1 # drop lowest bit of x\n",
    "        result ^= 1\n",
    "    return result\n",
    "parity(10)\n",
    "    "
   ]
  },
  {
   "cell_type": "code",
   "execution_count": 1,
   "metadata": {},
   "outputs": [
    {
     "data": {
      "text/plain": [
       "0"
      ]
     },
     "execution_count": 1,
     "metadata": {},
     "output_type": "execute_result"
    }
   ],
   "source": [
    "def parity(x):\n",
    "    x ^= x >> 32\n",
    "    x ^= x >> 16\n",
    "    x ^= x >> 8\n",
    "    x ^= x >> 4\n",
    "    x ^= x >> 2\n",
    "    x ^= x >> 1\n",
    "    return  x & 0x1\n",
    "parity(10)  # o(logn)"
   ]
  },
  {
   "cell_type": "code",
   "execution_count": 3,
   "metadata": {},
   "outputs": [
    {
     "data": {
      "text/plain": [
       "1"
      ]
     },
     "execution_count": 3,
     "metadata": {},
     "output_type": "execute_result"
    }
   ],
   "source": [
    "parity(32000000000)"
   ]
  },
  {
   "cell_type": "markdown",
   "metadata": {},
   "source": [
    "# 3. Bit swap"
   ]
  },
  {
   "cell_type": "code",
   "execution_count": 4,
   "metadata": {},
   "outputs": [
    {
     "data": {
      "text/plain": [
       "22"
      ]
     },
     "execution_count": 4,
     "metadata": {},
     "output_type": "execute_result"
    }
   ],
   "source": [
    "def swap_bits(x, i, j):\n",
    "    # extract the ith and jth bits and see if they differ\n",
    "    if (x >> i) & 1 != (x >> j) & 1:\n",
    "        # ith and jth bits differ. We will swap them by flipping their values\n",
    "        #select the bits to flip with bit_mask . Since x^1 = 0  when x = 1 and 1\n",
    "        # wheen x = 0, we can perform the flip xor\n",
    "        bit_mask = (1 << i) | (1 << j)\n",
    "        x ^= bit_mask\n",
    "    return x\n",
    "swap_bits(50, 5,2)"
   ]
  },
  {
   "cell_type": "markdown",
   "metadata": {},
   "source": [
    "# 4. Reverse bits"
   ]
  },
  {
   "cell_type": "code",
   "execution_count": 5,
   "metadata": {},
   "outputs": [
    {
     "ename": "NameError",
     "evalue": "name 'precomputed_reverse' is not defined",
     "output_type": "error",
     "traceback": [
      "\u001b[0;31m---------------------------------------------------------------------------\u001b[0m",
      "\u001b[0;31mNameError\u001b[0m                                 Traceback (most recent call last)",
      "\u001b[0;32m<ipython-input-5-458bc5db02e5>\u001b[0m in \u001b[0;36m<module>\u001b[0;34m\u001b[0m\n\u001b[1;32m      6\u001b[0m            \u001b[0;34m|\u001b[0m \u001b[0mprecomputed_reverse\u001b[0m\u001b[0;34m[\u001b[0m\u001b[0;34m(\u001b[0m\u001b[0mx\u001b[0m \u001b[0;34m>>\u001b[0m \u001b[0;34m(\u001b[0m\u001b[0;36m2\u001b[0m\u001b[0;34m*\u001b[0m\u001b[0mmask_size\u001b[0m\u001b[0;34m)\u001b[0m\u001b[0;34m)\u001b[0m \u001b[0;34m&\u001b[0m \u001b[0mbit_mask\u001b[0m\u001b[0;34m]\u001b[0m \u001b[0;34m<<\u001b[0m \u001b[0mmask_size\u001b[0m\u001b[0;34m\u001b[0m\u001b[0;34m\u001b[0m\u001b[0m\n\u001b[1;32m      7\u001b[0m             | precomputed_reverse[(x >> (3*mask_size)) & bit_mask])\n\u001b[0;32m----> 8\u001b[0;31m \u001b[0mreverse_bits\u001b[0m\u001b[0;34m(\u001b[0m\u001b[0;36m500\u001b[0m\u001b[0;34m)\u001b[0m\u001b[0;34m\u001b[0m\u001b[0;34m\u001b[0m\u001b[0m\n\u001b[0m",
      "\u001b[0;32m<ipython-input-5-458bc5db02e5>\u001b[0m in \u001b[0;36mreverse_bits\u001b[0;34m(x)\u001b[0m\n\u001b[1;32m      2\u001b[0m     \u001b[0mmask_size\u001b[0m \u001b[0;34m=\u001b[0m \u001b[0;36m16\u001b[0m\u001b[0;34m\u001b[0m\u001b[0;34m\u001b[0m\u001b[0m\n\u001b[1;32m      3\u001b[0m     \u001b[0mbit_mask\u001b[0m \u001b[0;34m=\u001b[0m \u001b[0;36m0xFFFF\u001b[0m\u001b[0;34m\u001b[0m\u001b[0;34m\u001b[0m\u001b[0m\n\u001b[0;32m----> 4\u001b[0;31m     return (precomputed_reverse[x & bit_mask] << (3*mask_size)\n\u001b[0m\u001b[1;32m      5\u001b[0m            \u001b[0;34m|\u001b[0m \u001b[0mprecomputed_reverse\u001b[0m\u001b[0;34m[\u001b[0m\u001b[0;34m(\u001b[0m\u001b[0mx\u001b[0m \u001b[0;34m>>\u001b[0m \u001b[0mmask_size\u001b[0m\u001b[0;34m)\u001b[0m \u001b[0;34m&\u001b[0m \u001b[0mbit_mask\u001b[0m\u001b[0;34m]\u001b[0m \u001b[0;34m<<\u001b[0m \u001b[0;34m(\u001b[0m\u001b[0;36m2\u001b[0m\u001b[0;34m*\u001b[0m\u001b[0mmask_size\u001b[0m\u001b[0;34m)\u001b[0m\u001b[0;34m\u001b[0m\u001b[0;34m\u001b[0m\u001b[0m\n\u001b[1;32m      6\u001b[0m            \u001b[0;34m|\u001b[0m \u001b[0mprecomputed_reverse\u001b[0m\u001b[0;34m[\u001b[0m\u001b[0;34m(\u001b[0m\u001b[0mx\u001b[0m \u001b[0;34m>>\u001b[0m \u001b[0;34m(\u001b[0m\u001b[0;36m2\u001b[0m\u001b[0;34m*\u001b[0m\u001b[0mmask_size\u001b[0m\u001b[0;34m)\u001b[0m\u001b[0;34m)\u001b[0m \u001b[0;34m&\u001b[0m \u001b[0mbit_mask\u001b[0m\u001b[0;34m]\u001b[0m \u001b[0;34m<<\u001b[0m \u001b[0mmask_size\u001b[0m\u001b[0;34m\u001b[0m\u001b[0;34m\u001b[0m\u001b[0m\n",
      "\u001b[0;31mNameError\u001b[0m: name 'precomputed_reverse' is not defined"
     ]
    }
   ],
   "source": [
    "def reverse_bits(x):\n",
    "    mask_size = 16\n",
    "    bit_mask = 0xFFFF\n",
    "    return (precomputed_reverse[x & bit_mask] << (3*mask_size)\n",
    "           | precomputed_reverse[(x >> mask_size) & bit_mask] << (2*mask_size)\n",
    "           | precomputed_reverse[(x >> (2*mask_size)) & bit_mask] << mask_size\n",
    "            | precomputed_reverse[(x >> (3*mask_size)) & bit_mask])\n",
    "reverse_bits(500)"
   ]
  },
  {
   "cell_type": "code",
   "execution_count": 6,
   "metadata": {},
   "outputs": [
    {
     "name": "stdout",
     "output_type": "stream",
     "text": [
      "4294967139\n"
     ]
    }
   ],
   "source": [
    "# Python code to implement the approach\n",
    "\n",
    "# Function to find the reverse of the number\n",
    "def reverse_bits(number, bit_size):\n",
    "\t# for example, if bitSize is 32\n",
    "\t# then after 1 << bitSize we will get\n",
    "\t# a 1 in 33-th bit position\n",
    "\t# bin(1 << bitSize) looks like\n",
    "\t# '0b100000000000000000000000000000000'\n",
    "\t# so to get all 1 in each 32 bit positions,\n",
    "\t# we need to subtract 1 from (1 << bitSize)\n",
    "\tmax_value = (1 << bit_size) - 1\n",
    "\t\n",
    "\t# it is the maximum value for unsigned int32\n",
    "\t# then just subtract your number from the maximum\n",
    "\treturn max_value - number\n",
    "\n",
    "if __name__ == \"__main__\":\n",
    "\t# for example we can get the number 56\n",
    "\tnum = 156\n",
    "\t\n",
    "\t# choose a binary size which we want to reverse\n",
    "\tsize = 32\n",
    "\tprint(reverse_bits(num, size))\n"
   ]
  },
  {
   "cell_type": "markdown",
   "metadata": {},
   "source": [
    "# 5. Closest Integer with the same weight"
   ]
  },
  {
   "cell_type": "code",
   "execution_count": 6,
   "metadata": {},
   "outputs": [
    {
     "data": {
      "text/plain": [
       "90"
      ]
     },
     "execution_count": 6,
     "metadata": {},
     "output_type": "execute_result"
    }
   ],
   "source": [
    "def closest_int_same_bit_count(x):\n",
    "    num_unsigned_bits = 64\n",
    "    for i in range(num_unsigned_bits - 1):\n",
    "        if (x >> 1) & 1 != (x >> (i+1)) & 1:\n",
    "            x ^= (1 << i) | (1 << (i+1)) # swap bit -i and bit-(i+1)\n",
    "            return x\n",
    "    # raise error if all bits of x are 0 or 1\n",
    "    raise ValueError('All bits are 0 or 1')\n",
    "\n",
    "closest_int_same_bit_count(92)"
   ]
  },
  {
   "cell_type": "markdown",
   "metadata": {},
   "source": [
    "# 6. compute x x y without math operator"
   ]
  },
  {
   "cell_type": "code",
   "execution_count": 7,
   "metadata": {},
   "outputs": [
    {
     "data": {
      "text/plain": [
       "247"
      ]
     },
     "execution_count": 7,
     "metadata": {},
     "output_type": "execute_result"
    }
   ],
   "source": [
    "def multiply(x, y):\n",
    "    def add(a, b):\n",
    "        running_sum, carryin, k, temp_a, temp_b = 0, 0, 1, a, b\n",
    "        while temp_a or temp_b:\n",
    "            ak, bk = a & k, b & k\n",
    "            carryout = (ak & bk) | (ak & carryin) | (bk & carryin)\n",
    "            running_sum |= ak ^ bk ^ carryin\n",
    "            carryin, k, temp_a, temp_b = (carryout << 1, k << 1, temp_a >> 1,\n",
    "                                         temp_b >> 1)\n",
    "        return running_sum | carryin\n",
    "    running_sum = 0\n",
    "    while x: # examines each bit of x\n",
    "        if x & 1:\n",
    "            running_sum = add(running_sum, y)\n",
    "        x, y = x >> 1, y << 1\n",
    "    return running_sum\n",
    "multiply(13, 19)\n",
    "            "
   ]
  },
  {
   "cell_type": "markdown",
   "metadata": {},
   "source": [
    "# 7. compute quotient using addition, subtraction, shifting operator"
   ]
  },
  {
   "cell_type": "code",
   "execution_count": 8,
   "metadata": {},
   "outputs": [
    {
     "data": {
      "text/plain": [
       "16"
      ]
     },
     "execution_count": 8,
     "metadata": {},
     "output_type": "execute_result"
    }
   ],
   "source": [
    "def divide(x, y):\n",
    "    result, power = 0, 32\n",
    "    y_power = y << power\n",
    "    while x >= y:\n",
    "        while y_power > x:\n",
    "            y_power >>= 1\n",
    "            power -= 1\n",
    "        result += 1 << power\n",
    "        x -= y_power\n",
    "    return result\n",
    "divide(113, 7)"
   ]
  },
  {
   "cell_type": "markdown",
   "metadata": {},
   "source": [
    "# 8. x^y"
   ]
  },
  {
   "cell_type": "code",
   "execution_count": 9,
   "metadata": {},
   "outputs": [
    {
     "data": {
      "text/plain": [
       "1162261467.0"
      ]
     },
     "execution_count": 9,
     "metadata": {},
     "output_type": "execute_result"
    }
   ],
   "source": [
    "def power(x, y):\n",
    "    result, power = 1.0, y\n",
    "    if y < 0:\n",
    "        power, x = -power, 1.0/x\n",
    "    while power:\n",
    "        if power & 1:\n",
    "            result *= x\n",
    "        x, power = x * x, power >> 1\n",
    "    return result\n",
    "power(3,19)"
   ]
  },
  {
   "cell_type": "markdown",
   "metadata": {},
   "source": [
    "# 9. Reverse digit"
   ]
  },
  {
   "cell_type": "code",
   "execution_count": 11,
   "metadata": {},
   "outputs": [
    {
     "data": {
      "text/plain": [
       "311"
      ]
     },
     "execution_count": 11,
     "metadata": {},
     "output_type": "execute_result"
    }
   ],
   "source": [
    "def reverse(x):\n",
    "    result, x_remaining = 0, abs(x)\n",
    "    while x_remaining:\n",
    "        result= result*10 + x_remaining % 10\n",
    "        x_remaining //= 10\n",
    "    return -result if x < 0 else result\n",
    "reverse(113)"
   ]
  },
  {
   "cell_type": "markdown",
   "metadata": {},
   "source": [
    "# 10. Decimal Palindrome"
   ]
  },
  {
   "cell_type": "code",
   "execution_count": 4,
   "metadata": {},
   "outputs": [
    {
     "data": {
      "text/plain": [
       "False"
      ]
     },
     "execution_count": 4,
     "metadata": {},
     "output_type": "execute_result"
    }
   ],
   "source": [
    "def is_palindrome_number(x):\n",
    "    import math\n",
    "    if x <= 0:\n",
    "        return x == 0\n",
    "    num_digits = math.floor(math.log10(x)) + 1\n",
    "    msd_mask = 10**(num_digits - 1)\n",
    "    for i in range(num_digits // 2):\n",
    "        if x // msd_mask != x % 10:\n",
    "            return False\n",
    "        x %= msd_mask # remove the most significant digit of x\n",
    "        x //= 10      # remove the least significant digit of x\n",
    "        msd_mask //= 100\n",
    "    return True\n",
    "is_palindrome_number(5050)"
   ]
  },
  {
   "cell_type": "markdown",
   "metadata": {},
   "source": [
    "# 11. Generate uniform random numbers"
   ]
  },
  {
   "cell_type": "code",
   "execution_count": 6,
   "metadata": {},
   "outputs": [
    {
     "ename": "NameError",
     "evalue": "name 'zero_one_random' is not defined",
     "output_type": "error",
     "traceback": [
      "\u001b[0;31m---------------------------------------------------------------------------\u001b[0m",
      "\u001b[0;31mNameError\u001b[0m                                 Traceback (most recent call last)",
      "\u001b[0;32m<ipython-input-6-e3d4a3fd35e5>\u001b[0m in \u001b[0;36m<module>\u001b[0;34m\u001b[0m\n\u001b[1;32m     10\u001b[0m             \u001b[0;32mbreak\u001b[0m\u001b[0;34m\u001b[0m\u001b[0;34m\u001b[0m\u001b[0m\n\u001b[1;32m     11\u001b[0m     \u001b[0;32mreturn\u001b[0m \u001b[0mresult\u001b[0m \u001b[0;34m+\u001b[0m \u001b[0mlower_bound\u001b[0m\u001b[0;34m\u001b[0m\u001b[0;34m\u001b[0m\u001b[0m\n\u001b[0;32m---> 12\u001b[0;31m \u001b[0muniform_random\u001b[0m\u001b[0;34m(\u001b[0m\u001b[0;36m50\u001b[0m\u001b[0;34m,\u001b[0m\u001b[0;36m500\u001b[0m\u001b[0;34m)\u001b[0m\u001b[0;34m\u001b[0m\u001b[0;34m\u001b[0m\u001b[0m\n\u001b[0m\u001b[1;32m     13\u001b[0m \u001b[0;34m\u001b[0m\u001b[0m\n",
      "\u001b[0;32m<ipython-input-6-e3d4a3fd35e5>\u001b[0m in \u001b[0;36muniform_random\u001b[0;34m(lower_bound, upper_bound)\u001b[0m\n\u001b[1;32m      5\u001b[0m         \u001b[0;32mwhile\u001b[0m \u001b[0;34m(\u001b[0m\u001b[0;36m1\u001b[0m \u001b[0;34m<<\u001b[0m \u001b[0mi\u001b[0m\u001b[0;34m)\u001b[0m \u001b[0;34m<\u001b[0m \u001b[0mnumber_of_outcomes\u001b[0m\u001b[0;34m:\u001b[0m\u001b[0;34m\u001b[0m\u001b[0;34m\u001b[0m\u001b[0m\n\u001b[1;32m      6\u001b[0m             \u001b[0;31m# zero_one_random() is the provided random number generator\u001b[0m\u001b[0;34m\u001b[0m\u001b[0;34m\u001b[0m\u001b[0;34m\u001b[0m\u001b[0m\n\u001b[0;32m----> 7\u001b[0;31m             \u001b[0mresult\u001b[0m \u001b[0;34m=\u001b[0m \u001b[0;34m(\u001b[0m\u001b[0mresult\u001b[0m \u001b[0;34m<<\u001b[0m \u001b[0;36m1\u001b[0m\u001b[0;34m)\u001b[0m \u001b[0;34m|\u001b[0m \u001b[0mzero_one_random\u001b[0m\u001b[0;34m(\u001b[0m\u001b[0;34m)\u001b[0m\u001b[0;34m\u001b[0m\u001b[0;34m\u001b[0m\u001b[0m\n\u001b[0m\u001b[1;32m      8\u001b[0m             \u001b[0mi\u001b[0m \u001b[0;34m+=\u001b[0m \u001b[0;36m1\u001b[0m\u001b[0;34m\u001b[0m\u001b[0;34m\u001b[0m\u001b[0m\n\u001b[1;32m      9\u001b[0m         \u001b[0;32mif\u001b[0m \u001b[0mresult\u001b[0m \u001b[0;34m<\u001b[0m \u001b[0mnumber_of_outcomes\u001b[0m\u001b[0;34m:\u001b[0m\u001b[0;34m\u001b[0m\u001b[0;34m\u001b[0m\u001b[0m\n",
      "\u001b[0;31mNameError\u001b[0m: name 'zero_one_random' is not defined"
     ]
    }
   ],
   "source": [
    "def uniform_random(lower_bound, upper_bound):\n",
    "    number_of_outcomes = upper_bound - lower_bound + 1\n",
    "    while True:\n",
    "        result, i = 0, 0\n",
    "        while (1 << i) < number_of_outcomes:\n",
    "            # zero_one_random() is the provided random number generator\n",
    "            result = (result << 1) | zero_one_random()\n",
    "            i += 1\n",
    "        if result < number_of_outcomes:\n",
    "            break\n",
    "    return result + lower_bound\n",
    "uniform_random(50,500)\n",
    "    "
   ]
  },
  {
   "cell_type": "code",
   "execution_count": 7,
   "metadata": {},
   "outputs": [
    {
     "name": "stdout",
     "output_type": "stream",
     "text": [
      "[0.64354771 0.69309773 0.35569048 0.12168109]\n"
     ]
    }
   ],
   "source": [
    "# importing module\n",
    "import numpy as np\n",
    "\n",
    "\n",
    "# numpy.random.uniform() method\n",
    "r = np.random.uniform(size=4)\n",
    "\n",
    "# printing numbers\n",
    "print(r)\n"
   ]
  },
  {
   "cell_type": "code",
   "execution_count": 8,
   "metadata": {},
   "outputs": [
    {
     "name": "stdout",
     "output_type": "stream",
     "text": [
      "1D Array with random values : \n",
      " [0.29271818 0.28670071 0.354209   0.36294667 0.92195675]\n"
     ]
    }
   ],
   "source": [
    "# importing module\n",
    "import numpy as np\n",
    "\n",
    "\n",
    "# numpy.random.uniform() method\n",
    "random_array = np.random.uniform(0.0, 1.0, 5)\n",
    "\n",
    "# printing 1D array with random numbers\n",
    "print(\"1D Array with random values : \\n\", random_array)\n"
   ]
  },
  {
   "cell_type": "markdown",
   "metadata": {},
   "source": [
    "# 12. Rectangle intersect"
   ]
  },
  {
   "cell_type": "code",
   "execution_count": 10,
   "metadata": {},
   "outputs": [],
   "source": [
    "import collections\n",
    "Rectangle = collections.namedtuple('Rectangle', ('x', 'y', 'width', 'height'))\n",
    "def intersect_rectangle(R1, R2):\n",
    "    def is_intersect(R1, R2):\n",
    "        return (R1.x <= R2.x + R2.width and R1.x  + R1.width >= R2.x\n",
    "               and R1.y <= R2.y + R2.height and R1.y + R1.height >= R2.y)\n",
    "    if not is_intersect(R1, R2):\n",
    "        return Rectangle(0, 0, -1, -1) # no interection\n",
    "    return Rectangle(\n",
    "    max(R1.x, R2.x),\n",
    "    max(R1.y, R2.y),\n",
    "    min(R1.x + R1.width, R2.x+R2.width)- max(R1.x, R2.x),\n",
    "    min(R1.y + R1.height, R2.y + R2.height) - max(R1.y, R2.y))\n",
    "\n"
   ]
  },
  {
   "cell_type": "code",
   "execution_count": null,
   "metadata": {},
   "outputs": [],
   "source": []
  }
 ],
 "metadata": {
  "kernelspec": {
   "display_name": "Python 3",
   "language": "python",
   "name": "python3"
  },
  "language_info": {
   "codemirror_mode": {
    "name": "ipython",
    "version": 3
   },
   "file_extension": ".py",
   "mimetype": "text/x-python",
   "name": "python",
   "nbconvert_exporter": "python",
   "pygments_lexer": "ipython3",
   "version": "3.8.3"
  }
 },
 "nbformat": 4,
 "nbformat_minor": 4
}
