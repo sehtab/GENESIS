{
 "cells": [
  {
   "cell_type": "markdown",
   "metadata": {},
   "source": [
    "# Insertion Sort"
   ]
  },
  {
   "cell_type": "code",
   "execution_count": 10,
   "metadata": {},
   "outputs": [
    {
     "name": "stdout",
     "output_type": "stream",
     "text": [
      "[0, 1, 2, 3, 7, 7, 9, 10]\n",
      "None\n",
      "Program Time: 0.0006874110003991518 seconds\n"
     ]
    }
   ],
   "source": [
    "import timeit\n",
    "start= timeit.default_timer()\n",
    "def insertionsort(customlist):\n",
    "    for i in range(1, len(customlist)):\n",
    "        key = customlist[i]\n",
    "        j = i-1\n",
    "        while j >= 0 and key < customlist[j]:\n",
    "            customlist[j+1] = customlist[j]\n",
    "            j -= 1\n",
    "        customlist[j+1] = key\n",
    "    print(customlist)\n",
    "clist = [2, 9, 3, 7, 1, 0, 7, 10 ]\n",
    "print(insertionsort(clist))\n",
    "stop = timeit.default_timer()\n",
    "execution_time = stop - start\n",
    "print(f'Program Time: {execution_time} seconds')"
   ]
  },
  {
   "cell_type": "markdown",
   "metadata": {},
   "source": [
    "## time complexity: O(n^2), space cmplexity: O(1)"
   ]
  },
  {
   "cell_type": "code",
   "execution_count": 9,
   "metadata": {},
   "outputs": [
    {
     "name": "stdout",
     "output_type": "stream",
     "text": [
      "[1, 3, 5, 9, 50, 200]\n",
      "None\n",
      "Program Time: 0.00034161399980803253 seconds\n"
     ]
    }
   ],
   "source": [
    "import timeit\n",
    "start= timeit.default_timer()\n",
    "def insertionsort(clist):\n",
    "    for i in range(len(clist)-1):\n",
    "        for j in range(len(clist)-i-1):\n",
    "            if clist[j] > clist[j+1]:\n",
    "                clist[j], clist[j+1] = clist[j+1], clist[j]\n",
    "    print(clist)\n",
    "l = [5,1,9,200,3,50]\n",
    "print(insertionsort(l))\n",
    "stop = timeit.default_timer()\n",
    "execution_time = stop - start\n",
    "print(f'Program Time: {execution_time} seconds')"
   ]
  },
  {
   "cell_type": "code",
   "execution_count": 8,
   "metadata": {},
   "outputs": [
    {
     "name": "stdout",
     "output_type": "stream",
     "text": [
      "[1, 1, 9, 3, 3, 50]\n",
      "None\n",
      "Program Time: 0.0002872400000342168 seconds\n"
     ]
    }
   ],
   "source": [
    "import timeit\n",
    "start= timeit.default_timer()\n",
    "\n",
    "def insertionsort(nlist):\n",
    "    for index in range(len(nlist)):\n",
    "        currentvalue = nlist[index]\n",
    "        position = index\n",
    "        while position > 0 and nlist[position-1] > nlist[position]:\n",
    "            position = position - 1\n",
    "        nlist[position] = currentvalue\n",
    "    print(nlist)\n",
    "l = [5,1,9,200,3,50]\n",
    "print(insertionsort(l))\n",
    "stop = timeit.default_timer()\n",
    "execution_time = stop - start\n",
    "print(f'Program Time: {execution_time} seconds')\n",
    "\n",
    "    \n",
    "        \n",
    "        "
   ]
  },
  {
   "cell_type": "markdown",
   "metadata": {},
   "source": [
    "## Third one is buggy"
   ]
  },
  {
   "cell_type": "code",
   "execution_count": null,
   "metadata": {},
   "outputs": [],
   "source": []
  }
 ],
 "metadata": {
  "kernelspec": {
   "display_name": "Python 3",
   "language": "python",
   "name": "python3"
  },
  "language_info": {
   "codemirror_mode": {
    "name": "ipython",
    "version": 3
   },
   "file_extension": ".py",
   "mimetype": "text/x-python",
   "name": "python",
   "nbconvert_exporter": "python",
   "pygments_lexer": "ipython3",
   "version": "3.8.3"
  }
 },
 "nbformat": 4,
 "nbformat_minor": 4
}
