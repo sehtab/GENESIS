{
 "cells": [
  {
   "cell_type": "markdown",
   "metadata": {},
   "source": [
    "# Tree/ Binary Tree"
   ]
  },
  {
   "cell_type": "markdown",
   "metadata": {},
   "source": [
    "## Create root"
   ]
  },
  {
   "cell_type": "code",
   "execution_count": 1,
   "metadata": {},
   "outputs": [
    {
     "name": "stdout",
     "output_type": "stream",
     "text": [
      "10\n"
     ]
    }
   ],
   "source": [
    "class node:\n",
    "  def __init__(self, data):\n",
    "    self.left = None\n",
    "    self.right = None\n",
    "    self.data = data\n",
    "  def printtree(self):\n",
    "    print(self.data)\n",
    "root = node(10)\n",
    "root.printtree()"
   ]
  },
  {
   "cell_type": "markdown",
   "metadata": {},
   "source": [
    "## Inserting in a tree"
   ]
  },
  {
   "cell_type": "code",
   "execution_count": 2,
   "metadata": {},
   "outputs": [
    {
     "name": "stdout",
     "output_type": "stream",
     "text": [
      "6\n",
      "12\n"
     ]
    }
   ],
   "source": [
    "class node:\n",
    "  def __init__(self, data):\n",
    "    self.left = None\n",
    "    self.right = None\n",
    "    self.data = data\n",
    "  def insert(self, data):\n",
    "    if self.data:\n",
    "      if data < self.data:\n",
    "        if self.left is None:\n",
    "          self.left = node(data)\n",
    "        else: self.left.insert(data)\n",
    "      elif data > self.data:\n",
    "        if self.right is None:\n",
    "          self.right = node(data)\n",
    "        else: self.right.insert(data)\n",
    "    else: self.data = data\n",
    "  def printtree(self):\n",
    "    if self.left:\n",
    "      self.left.printtree()\n",
    "      print(self.data)\n",
    "    if self.right:\n",
    "      self.right.printtree()\n",
    "\n",
    "# Use the insert method to add nodes\n",
    "root = node(12)\n",
    "root.insert(6)\n",
    "root.insert(14)\n",
    "root.insert(3)\n",
    "root.printtree()"
   ]
  },
  {
   "cell_type": "markdown",
   "metadata": {},
   "source": [
    "# Traversal"
   ]
  },
  {
   "cell_type": "markdown",
   "metadata": {},
   "source": [
    "## Inorder Traversal"
   ]
  },
  {
   "cell_type": "code",
   "execution_count": 3,
   "metadata": {},
   "outputs": [
    {
     "name": "stdout",
     "output_type": "stream",
     "text": [
      "[10, 20, 27, 30, 50, 60]\n"
     ]
    }
   ],
   "source": [
    "class node:\n",
    "  def __init__(self, data):\n",
    "    self.left = None\n",
    "    self.right = None\n",
    "    self.data = data\n",
    "  def insert(self, data):\n",
    "    if self.data:\n",
    "      if data < self.data:\n",
    "        if self.left is None:\n",
    "          self.left = node(data)\n",
    "        else: self.left.insert(data)\n",
    "      elif data > self.data:\n",
    "        if self.right is None:\n",
    "          self.right = node(data)\n",
    "        else: self.right.insert(data)\n",
    "    else: self.data = data\n",
    "  def printtree(self):\n",
    "    if self.left:\n",
    "      self.left.printtree()\n",
    "      print(self.data)\n",
    "    if self.right:\n",
    "      self.right.printtree()\n",
    "\n",
    "# inorder traversal\n",
    "# Left -> Root -> Right\n",
    "  def inordertraversal(self, root):\n",
    "    res = []\n",
    "    if root:\n",
    "      res = self.inordertraversal(root.left)\n",
    "      res.append(root.data)\n",
    "      res = res + self.inordertraversal(root.right)\n",
    "    return res\n",
    "\n",
    "root = node(27)\n",
    "root.insert(20)\n",
    "root.insert(30)\n",
    "root.insert(10)\n",
    "root.insert(50)\n",
    "root.insert(60)\n",
    "print(root.inordertraversal(root))"
   ]
  },
  {
   "cell_type": "markdown",
   "metadata": {},
   "source": [
    "# Preorder Traversal"
   ]
  },
  {
   "cell_type": "code",
   "execution_count": 4,
   "metadata": {},
   "outputs": [
    {
     "name": "stdout",
     "output_type": "stream",
     "text": [
      "[27, 20, 10, 30, 50, 60]\n"
     ]
    }
   ],
   "source": [
    "class node:\n",
    "  def __init__(self, data):\n",
    "    self.left = None\n",
    "    self.right = None\n",
    "    self.data = data\n",
    "  def insert(self, data):\n",
    "    if self.data:\n",
    "      if data < self.data:\n",
    "        if self.left is None:\n",
    "          self.left = node(data)\n",
    "        else: self.left.insert(data)\n",
    "      elif data > self.data:\n",
    "        if self.right is None:\n",
    "          self.right = node(data)\n",
    "        else: self.right.insert(data)\n",
    "    else: self.data = data\n",
    "  def printtree(self):\n",
    "    if self.left:\n",
    "      self.left.printtree()\n",
    "      print(self.data)\n",
    "    if self.right:\n",
    "      self.right.printtree()\n",
    "  # Preorder traversal\n",
    "  # Root -> Left -> Right\n",
    "  def preordertraversal(self, root):\n",
    "    res = []\n",
    "    if root:\n",
    "      res.append(root.data)\n",
    "      res = res + self.preordertraversal(root.left)\n",
    "      res = res + self.preordertraversal(root.right)\n",
    "    return res\n",
    "\n",
    "root = node(27)\n",
    "root.insert(20)\n",
    "root.insert(30)\n",
    "root.insert(10)\n",
    "root.insert(50)\n",
    "root.insert(60)\n",
    "print(root.preordertraversal(root))"
   ]
  },
  {
   "cell_type": "markdown",
   "metadata": {},
   "source": [
    "# Preorder Traversal"
   ]
  },
  {
   "cell_type": "code",
   "execution_count": 5,
   "metadata": {},
   "outputs": [
    {
     "name": "stdout",
     "output_type": "stream",
     "text": [
      "[10, 20, 60, 50, 30, 27]\n"
     ]
    }
   ],
   "source": [
    "class node:\n",
    "  def __init__(self, data):\n",
    "    self.left = None\n",
    "    self.right = None\n",
    "    self.data = data\n",
    "  def insert(self, data):\n",
    "    if self.data:\n",
    "      if data < self.data:\n",
    "        if self.left is None:\n",
    "          self.left = node(data)\n",
    "        else: self.left.insert(data)\n",
    "      elif data > self.data:\n",
    "        if self.right is None:\n",
    "          self.right = node(data)\n",
    "        else: self.right.insert(data)\n",
    "    else: self.data = data\n",
    "  def printtree(self):\n",
    "    if self.left:\n",
    "      self.left.printtree()\n",
    "      print(self.data)\n",
    "    if self.right:\n",
    "      self.right.printtree()\n",
    "  # Postorder traversal\n",
    "  # Left -> Right -> Root\n",
    "  def postordertraversal(self, root):\n",
    "    res = []\n",
    "    if root:\n",
    "      res = self.postordertraversal(root.left)\n",
    "      res = res + self.postordertraversal(root.right)\n",
    "      res.append(root.data)\n",
    "    return res\n",
    "root = node(27)\n",
    "root.insert(20)\n",
    "root.insert(30)\n",
    "root.insert(10)\n",
    "root.insert(50)\n",
    "root.insert(60)\n",
    "print(root.postordertraversal(root))"
   ]
  },
  {
   "cell_type": "markdown",
   "metadata": {},
   "source": [
    "# Binary Search Tree"
   ]
  },
  {
   "cell_type": "markdown",
   "metadata": {},
   "source": [
    "## Search a key in a binary tree"
   ]
  },
  {
   "cell_type": "code",
   "execution_count": 6,
   "metadata": {},
   "outputs": [],
   "source": [
    "def search(root, key):\n",
    "  if root is None or root == key:\n",
    "    return root\n",
    "  if root.val < key:\n",
    "    return search(root.right, key)\n",
    "  return search(root.left, key)"
   ]
  },
  {
   "cell_type": "markdown",
   "metadata": {},
   "source": [
    "## Insert a given key in a BST"
   ]
  },
  {
   "cell_type": "code",
   "execution_count": 7,
   "metadata": {},
   "outputs": [
    {
     "name": "stdout",
     "output_type": "stream",
     "text": [
      "20\n",
      "30\n",
      "40\n",
      "50\n",
      "60\n",
      "80\n"
     ]
    }
   ],
   "source": [
    "class node:\n",
    "  def __init__(self, key):\n",
    "    self.left = None\n",
    "    self.right = None\n",
    "    self.val = key\n",
    "\n",
    "def insert(root, key):\n",
    "  if root is None:\n",
    "    return node(key)\n",
    "  else: \n",
    "    if root.val == key:\n",
    "      return root\n",
    "    elif root.val < key:\n",
    "      root.right = insert(root.right, key)\n",
    "    else: root.left = insert(root.left, key)\n",
    "\n",
    "  return root\n",
    "\n",
    "def inorder(root):\n",
    "  if root:\n",
    "    inorder(root.left)\n",
    "    print(root.val)\n",
    "    inorder(root.right)\n",
    "\n",
    "r = node(50)\n",
    "r = insert(r,30)\n",
    "r = insert(r, 20)\n",
    "r = insert(r, 60)\n",
    "r = insert(r, 40)\n",
    "r = insert(r,80)\n",
    "\n",
    "# Print inoder traversal of the BST\n",
    "inorder(r)  "
   ]
  },
  {
   "cell_type": "markdown",
   "metadata": {},
   "source": [
    "# Structure of Trie Node"
   ]
  },
  {
   "cell_type": "code",
   "execution_count": 8,
   "metadata": {},
   "outputs": [],
   "source": [
    "class trienode:\n",
    "    def __init__(self):\n",
    "        self.children = [None for _ in range(26)]\n",
    "        # isendofword true if node represent the end of the world\n",
    "        self.isendofword = False"
   ]
  },
  {
   "cell_type": "markdown",
   "metadata": {},
   "source": [
    "# Search operation in Trie"
   ]
  },
  {
   "cell_type": "code",
   "execution_count": 11,
   "metadata": {},
   "outputs": [
    {
     "name": "stdout",
     "output_type": "stream",
     "text": [
      "the ---- Present in trie\n",
      "these ---- Not present in trie\n",
      "their ---- Present in trie\n",
      "thaw ---- Not present in trie\n"
     ]
    }
   ],
   "source": [
    "# Python program for insert and search\n",
    "# operation in a Trie\n",
    "\n",
    "class TrieNode:\n",
    "\t\n",
    "\t# Trie node class\n",
    "\tdef __init__(self):\n",
    "\t\tself.children = [None]*26\n",
    "\n",
    "\t\t# isEndOfWord is True if node represent the end of the word\n",
    "\t\tself.isEndOfWord = False\n",
    "\n",
    "class Trie:\n",
    "\t\n",
    "\t# Trie data structure class\n",
    "\tdef __init__(self):\n",
    "\t\tself.root = self.getNode()\n",
    "\n",
    "\tdef getNode(self):\n",
    "\t\n",
    "\t\t# Returns new trie node (initialized to NULLs)\n",
    "\t\treturn TrieNode()\n",
    "\n",
    "\tdef _charToIndex(self,ch):\n",
    "\t\t\n",
    "\t\t# private helper function\n",
    "\t\t# Converts key current character into index\n",
    "\t\t# use only 'a' through 'z' and lower case\n",
    "\t\t\n",
    "\t\treturn ord(ch)-ord('a')\n",
    "\n",
    "\n",
    "\tdef insert(self,key):\n",
    "\t\t\n",
    "\t\t# If not present, inserts key into trie\n",
    "\t\t# If the key is prefix of trie node,\n",
    "\t\t# just marks leaf node\n",
    "\t\tpCrawl = self.root\n",
    "\t\tlength = len(key)\n",
    "\t\tfor level in range(length):\n",
    "\t\t\tindex = self._charToIndex(key[level])\n",
    "\n",
    "\t\t\t# if current character is not present\n",
    "\t\t\tif not pCrawl.children[index]:\n",
    "\t\t\t\tpCrawl.children[index] = self.getNode()\n",
    "\t\t\tpCrawl = pCrawl.children[index]\n",
    "\n",
    "\t\t# mark last node as leaf\n",
    "\t\tpCrawl.isEndOfWord = True\n",
    "\n",
    "\tdef search(self, key):\n",
    "\t\t\n",
    "\t\t# Search key in the trie\n",
    "\t\t# Returns true if key presents\n",
    "\t\t# in trie, else false\n",
    "\t\tpCrawl = self.root\n",
    "\t\tlength = len(key)\n",
    "\t\tfor level in range(length):\n",
    "\t\t\tindex = self._charToIndex(key[level])\n",
    "\t\t\tif not pCrawl.children[index]:\n",
    "\t\t\t\treturn False\n",
    "\t\t\tpCrawl = pCrawl.children[index]\n",
    "\n",
    "\t\treturn pCrawl.isEndOfWord\n",
    "\n",
    "# driver function\n",
    "def main():\n",
    "\n",
    "\t# Input keys (use only 'a' through 'z' and lower case)\n",
    "\tkeys = [\"the\",\"a\",\"there\",\"anaswe\",\"any\",\n",
    "\t\t\t\"by\",\"their\"]\n",
    "\toutput = [\"Not present in trie\",\n",
    "\t\t\t\"Present in trie\"]\n",
    "\n",
    "\t# Trie object\n",
    "\tt = Trie()\n",
    "\n",
    "\t# Construct trie\n",
    "\tfor key in keys:\n",
    "\t\tt.insert(key)\n",
    "\n",
    "\t# Search for different keys\n",
    "\tprint(\"{} ---- {}\".format(\"the\",output[t.search(\"the\")]))\n",
    "\tprint(\"{} ---- {}\".format(\"these\",output[t.search(\"these\")]))\n",
    "\tprint(\"{} ---- {}\".format(\"their\",output[t.search(\"their\")]))\n",
    "\tprint(\"{} ---- {}\".format(\"thaw\",output[t.search(\"thaw\")]))\n",
    "\n",
    "if __name__ == '__main__':\n",
    "\tmain()\n",
    "\n",
    "# This code is contributed by Atul Kumar (www.facebook.com/atul.kr.007)\n",
    "\n",
    "\n",
    "\n",
    "        "
   ]
  },
  {
   "cell_type": "markdown",
   "metadata": {},
   "source": [
    "# Heaps / Heapsort"
   ]
  },
  {
   "cell_type": "code",
   "execution_count": 1,
   "metadata": {},
   "outputs": [
    {
     "name": "stdout",
     "output_type": "stream",
     "text": [
      "Sorted Array:\n",
      "11\n",
      "5\n",
      "6\n",
      "7\n",
      "12\n",
      "13\n"
     ]
    }
   ],
   "source": [
    "def heapify(arr, n, i):\n",
    "    largest = i\n",
    "    l = 2*i+1\n",
    "    r = 2*i+2\n",
    "    # see if left child of root exists and is greater than root\n",
    "    if r < n and arr[largest] < arr[r]:\n",
    "        largest = r\n",
    "    # change the root, if needed\n",
    "    if largest != i:\n",
    "        (arr[i], arr[largest]) = (arr[largest], arr[i])  # swap\n",
    "    # heapify the root\n",
    "        heapify(arr, n, largest)\n",
    "# main function\n",
    "def heapsort(arr):\n",
    "    n = len(arr)\n",
    "    for i in range(n // 2 - 1, -1, -1):\n",
    "        heapify(arr, n, i)\n",
    "    # one by one extract elements\n",
    "    for i in range(n - 1, 0, -1):\n",
    "        (arr[i], arr[0]) = (arr[0], arr[i])  # swap\n",
    "        heapify(arr, i, 0)\n",
    "# driver code\n",
    "arr = [12, 11, 13, 5, 6, 7]\n",
    "heapsort(arr)\n",
    "print(\"Sorted Array:\")\n",
    "for i in range(len(arr)):\n",
    "    print(arr[i])\n",
    "    \n",
    "        "
   ]
  },
  {
   "cell_type": "code",
   "execution_count": 2,
   "metadata": {},
   "outputs": [
    {
     "name": "stdout",
     "output_type": "stream",
     "text": [
      "Sorted array is\n",
      "5\n",
      "6\n",
      "7\n",
      "11\n",
      "12\n",
      "13\n"
     ]
    }
   ],
   "source": [
    "#!/usr/bin/python\n",
    "# -*- coding: utf-8 -*-\n",
    "# Python program for implementation of heap Sort\n",
    "\n",
    "# To heapify subtree rooted at index i.\n",
    "# n is size of heap\n",
    "\n",
    "\n",
    "def heapify(arr, n, i):\n",
    "\tlargest = i # Initialize largest as root\n",
    "\tl = 2 * i + 1 # left = 2*i + 1\n",
    "\tr = 2 * i + 2 # right = 2*i + 2\n",
    "\n",
    "# See if left child of root exists and is\n",
    "# greater than root\n",
    "\n",
    "\tif l < n and arr[i] < arr[l]:\n",
    "\t\tlargest = l\n",
    "\n",
    "# See if right child of root exists and is\n",
    "# greater than root\n",
    "\n",
    "\tif r < n and arr[largest] < arr[r]:\n",
    "\t\tlargest = r\n",
    "\n",
    "# Change root, if needed\n",
    "\n",
    "\tif largest != i:\n",
    "\t\t(arr[i], arr[largest]) = (arr[largest], arr[i]) # swap\n",
    "\n",
    "# Heapify the root.\n",
    "\n",
    "\t\theapify(arr, n, largest)\n",
    "\n",
    "\n",
    "# The main function to sort an array of given size\n",
    "\n",
    "def heapSort(arr):\n",
    "\tn = len(arr)\n",
    "\n",
    "# Build a maxheap.\n",
    "# Since last parent will be at ((n//2)-1) we can start at that location.\n",
    "\n",
    "\tfor i in range(n // 2 - 1, -1, -1):\n",
    "\t\theapify(arr, n, i)\n",
    "\n",
    "# One by one extract elements\n",
    "\n",
    "\tfor i in range(n - 1, 0, -1):\n",
    "\t\t(arr[i], arr[0]) = (arr[0], arr[i]) # swap\n",
    "\t\theapify(arr, i, 0)\n",
    "\n",
    "\n",
    "# Driver code to test above\n",
    "\n",
    "arr = [12, 11, 13, 5, 6, 7, ]\n",
    "heapSort(arr)\n",
    "n = len(arr)\n",
    "print('Sorted array is')\n",
    "for i in range(n):\n",
    "\tprint(arr[i])\n",
    "\n",
    "# This code is contributed by Mohit Kumra\n"
   ]
  },
  {
   "cell_type": "markdown",
   "metadata": {},
   "source": [
    "# compute the median of all elements"
   ]
  },
  {
   "cell_type": "code",
   "execution_count": 3,
   "metadata": {},
   "outputs": [
    {
     "name": "stdout",
     "output_type": "stream",
     "text": [
      "1.5\n",
      "2\n",
      "2\n"
     ]
    }
   ],
   "source": [
    "import heapq\n",
    "class median_finder:\n",
    "    def __init__(self):\n",
    "        # initilize the data structure\n",
    "        self.max_heap = []\n",
    "        self.min_heap = []\n",
    "    def add_number(self, num):\n",
    "        # type num: int, rtype: void\n",
    "        if not self.max_heap and not self.min_heap:\n",
    "            heapq.heappush(self.min_heap, num)\n",
    "            return\n",
    "        if not self.max_heap:\n",
    "            if num > self.min_heap[0]:\n",
    "                heapq.heappush(self.max_heap, -heapq.heappop(self.min_heap))\n",
    "                heapq.heappush(self.min_heap, num)\n",
    "            else:\n",
    "                heapq.heappush(self.max_heap, -num)\n",
    "            return\n",
    "        if len(self.max_heap) == len(self.min_heap):\n",
    "            if num < -self.max_heap[0]:\n",
    "                heapq.heappush(self.max_heap, -num)\n",
    "            else:\n",
    "                heapq.heappush(self.min_heap, num)\n",
    "        elif len(self.max_heap) > len(self.min_heap):\n",
    "            if num < -self.max[0]:\n",
    "                heapq.heappush(self.min_heap, -heapq.heappop(self.max_heap))\n",
    "                heapq.heappush(self.min_heap, num)\n",
    "            else:\n",
    "                heapq.heappush(self.max_heap, -num)\n",
    "    def find_median(self):\n",
    "        #rtype: float\n",
    "        if len(self.max_heap) == len(self.min_heap):\n",
    "            return (-self.max_heap[0] + self.min_heap[0]) / 2\n",
    "        elif len(self.max_heap) > len(self.min_heap):\n",
    "            return -self.max_heap[0]\n",
    "        else:\n",
    "            return self.min_heap[0]\n",
    "s = median_finder()\n",
    "s.add_number(1)\n",
    "s.add_number(2)\n",
    "result = s.find_median()\n",
    "print(result)\n",
    "s.add_number(3)\n",
    "result = s.find_median()\n",
    "print(result)\n",
    "s.add_number(4)\n",
    "s.add_number(5)\n",
    "result = s.find_median()\n",
    "print(result)\n",
    "        "
   ]
  },
  {
   "cell_type": "markdown",
   "metadata": {},
   "source": [
    "# anagram"
   ]
  },
  {
   "cell_type": "code",
   "execution_count": 4,
   "metadata": {},
   "outputs": [
    {
     "name": "stdout",
     "output_type": "stream",
     "text": [
      "The strings are anagram\n"
     ]
    }
   ],
   "source": [
    "\n",
    "def check_anagram(s1, s2):\n",
    "    if (sorted(s1) == sorted(s2)):\n",
    "        print(\"The strings are anagram\")\n",
    "    else:\n",
    "        print(\"Not Anagram\")\n",
    "s1 = 'listen'\n",
    "s2 = 'silent'\n",
    "check_anagram(s1, s2)"
   ]
  },
  {
   "cell_type": "code",
   "execution_count": 7,
   "metadata": {},
   "outputs": [
    {
     "name": "stdout",
     "output_type": "stream",
     "text": [
      "The strings are anagram\n"
     ]
    }
   ],
   "source": [
    "from collections import Counter\n",
    "def check_anagram(s1, s2):\n",
    "    if(Counter(s1) == Counter(s2)):\n",
    "        print(\"The strings are anagram\")\n",
    "    else:\n",
    "        print(\"Not Anagram\")\n",
    "s1 = 'listen'\n",
    "s2 = 'silent'\n",
    "check_anagram(s1, s2)\n",
    "        "
   ]
  },
  {
   "cell_type": "markdown",
   "metadata": {},
   "source": [
    "# Hashtable"
   ]
  },
  {
   "cell_type": "code",
   "execution_count": 8,
   "metadata": {},
   "outputs": [
    {
     "name": "stdout",
     "output_type": "stream",
     "text": [
      "d['name']: x\n",
      "d['age']: 7\n"
     ]
    }
   ],
   "source": [
    "d = {'name': 'x', 'age':7, 'class': 1}\n",
    "print(\"d['name']:\", d['name'])\n",
    "print(\"d['age']:\", d['age'])"
   ]
  },
  {
   "cell_type": "code",
   "execution_count": 10,
   "metadata": {},
   "outputs": [
    {
     "name": "stdout",
     "output_type": "stream",
     "text": [
      "d['name']: x\n",
      "d['age']: 8\n"
     ]
    }
   ],
   "source": [
    "# update dictionary\n",
    "d['age'] = 8\n",
    "print(\"d['name']:\", d['name'])\n",
    "print(\"d['age']:\", d['age'])"
   ]
  },
  {
   "cell_type": "code",
   "execution_count": 11,
   "metadata": {},
   "outputs": [
    {
     "name": "stdout",
     "output_type": "stream",
     "text": [
      "d['name']: x\n",
      "d['age']: 8\n"
     ]
    },
    {
     "ename": "KeyError",
     "evalue": "'class'",
     "output_type": "error",
     "traceback": [
      "\u001b[0;31m---------------------------------------------------------------------------\u001b[0m",
      "\u001b[0;31mKeyError\u001b[0m                                  Traceback (most recent call last)",
      "\u001b[0;32m<ipython-input-11-6d8c79d74c04>\u001b[0m in \u001b[0;36m<module>\u001b[0;34m\u001b[0m\n\u001b[1;32m      3\u001b[0m \u001b[0mprint\u001b[0m\u001b[0;34m(\u001b[0m\u001b[0;34m\"d['name']:\"\u001b[0m\u001b[0;34m,\u001b[0m \u001b[0md\u001b[0m\u001b[0;34m[\u001b[0m\u001b[0;34m'name'\u001b[0m\u001b[0;34m]\u001b[0m\u001b[0;34m)\u001b[0m\u001b[0;34m\u001b[0m\u001b[0;34m\u001b[0m\u001b[0m\n\u001b[1;32m      4\u001b[0m \u001b[0mprint\u001b[0m\u001b[0;34m(\u001b[0m\u001b[0;34m\"d['age']:\"\u001b[0m\u001b[0;34m,\u001b[0m \u001b[0md\u001b[0m\u001b[0;34m[\u001b[0m\u001b[0;34m'age'\u001b[0m\u001b[0;34m]\u001b[0m\u001b[0;34m)\u001b[0m\u001b[0;34m\u001b[0m\u001b[0;34m\u001b[0m\u001b[0m\n\u001b[0;32m----> 5\u001b[0;31m \u001b[0mprint\u001b[0m\u001b[0;34m(\u001b[0m\u001b[0;34m\"d['class']:\"\u001b[0m\u001b[0;34m,\u001b[0m \u001b[0md\u001b[0m\u001b[0;34m[\u001b[0m\u001b[0;34m'class'\u001b[0m\u001b[0;34m]\u001b[0m\u001b[0;34m)\u001b[0m\u001b[0;34m\u001b[0m\u001b[0;34m\u001b[0m\u001b[0m\n\u001b[0m",
      "\u001b[0;31mKeyError\u001b[0m: 'class'"
     ]
    }
   ],
   "source": [
    "# delete key\n",
    "del d['class']\n",
    "print(\"d['name']:\", d['name'])\n",
    "print(\"d['age']:\", d['age'])\n",
    "print(\"d['class']:\", d['class'])"
   ]
  },
  {
   "cell_type": "code",
   "execution_count": null,
   "metadata": {},
   "outputs": [],
   "source": []
  }
 ],
 "metadata": {
  "kernelspec": {
   "display_name": "Python 3",
   "language": "python",
   "name": "python3"
  },
  "language_info": {
   "codemirror_mode": {
    "name": "ipython",
    "version": 3
   },
   "file_extension": ".py",
   "mimetype": "text/x-python",
   "name": "python",
   "nbconvert_exporter": "python",
   "pygments_lexer": "ipython3",
   "version": "3.8.3"
  }
 },
 "nbformat": 4,
 "nbformat_minor": 4
}
