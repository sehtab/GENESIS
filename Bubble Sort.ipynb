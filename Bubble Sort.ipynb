{
 "cells": [
  {
   "cell_type": "markdown",
   "metadata": {},
   "source": [
    "# Bubble Sort"
   ]
  },
  {
   "cell_type": "code",
   "execution_count": 2,
   "metadata": {},
   "outputs": [
    {
     "name": "stdout",
     "output_type": "stream",
     "text": [
      "The array:\n",
      "[2, 1, 7, 6, 5, 3, 0, 9]\n",
      "[0, 1, 2, 3, 5, 6, 7, 9]\n",
      "The array after sorting in Ascending Order by selection sort is:\n",
      "[0, 1, 2, 3, 5, 6, 7, 9]\n",
      "Program Time: 0.0005526450004254002 seconds\n"
     ]
    }
   ],
   "source": [
    "import timeit\n",
    "start = timeit.default_timer()\n",
    "def bubblesort(customlist):\n",
    "    # traverse through all the elements\n",
    "    for i in range(len(customlist)-1):\n",
    "        # range(n) works but outer loop will repeat 1 time more than needed.\n",
    "        # Last i elements are already in place \n",
    "        for j in range(len(customlist)-i-1):\n",
    "            # traverse the array from 0 to n-i-1, swap if the element found is greater than\n",
    "            # the enxt element\n",
    "            if customlist[j] > customlist[j+1]:\n",
    "                customlist[j], customlist[j+1] = customlist[j+1], customlist[j]\n",
    "    print(customlist)\n",
    "clist = [2, 1, 7, 6 , 5, 3, 0, 9]\n",
    "print(\"The array:\")\n",
    "print(clist)\n",
    "bubblesort(clist)\n",
    "print('The array after sorting in Ascending Order by selection sort is:')\n",
    "print(clist)\n",
    "stop = timeit.default_timer()\n",
    "execution_time = stop - start\n",
    "print(f'Program Time: {execution_time} seconds')"
   ]
  },
  {
   "cell_type": "markdown",
   "metadata": {},
   "source": [
    "## Time complexity: O(n^2), space complexity: O(1)"
   ]
  },
  {
   "cell_type": "code",
   "execution_count": null,
   "metadata": {},
   "outputs": [],
   "source": []
  }
 ],
 "metadata": {
  "kernelspec": {
   "display_name": "Python 3",
   "language": "python",
   "name": "python3"
  },
  "language_info": {
   "codemirror_mode": {
    "name": "ipython",
    "version": 3
   },
   "file_extension": ".py",
   "mimetype": "text/x-python",
   "name": "python",
   "nbconvert_exporter": "python",
   "pygments_lexer": "ipython3",
   "version": "3.8.3"
  }
 },
 "nbformat": 4,
 "nbformat_minor": 4
}
