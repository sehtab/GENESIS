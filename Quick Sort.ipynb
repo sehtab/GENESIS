{
 "cells": [
  {
   "cell_type": "markdown",
   "metadata": {},
   "source": [
    "# Quick Sort"
   ]
  },
  {
   "cell_type": "code",
   "execution_count": 4,
   "metadata": {},
   "outputs": [
    {
     "name": "stdout",
     "output_type": "stream",
     "text": [
      "None\n"
     ]
    }
   ],
   "source": [
    "def partition(customlist, low, high):\n",
    "    i = low - 1\n",
    "    pivot = customlist[high]\n",
    "    for j in range(low, high,):\n",
    "        if customlist[j] <= pivot:\n",
    "            i += 1\n",
    "            customlist[i], customlist[j] = customlist[j], customlist[i]\n",
    "    customlist[i+1], customlist[high] = customlist[high], customlist[i+1]\n",
    "    return (i+1)\n",
    "def quicksort(customlist, low, high):\n",
    "    if low < high:\n",
    "        pi = partition(customlist, low, high)\n",
    "        quicksort(customlist, low, pi-1)\n",
    "        quicksort(customlist, pi+1, high)\n",
    "        \n",
    "clist = [0,5,2,9,1,4,3,7,8 ]\n",
    "print(quicksort(clist,0,8))"
   ]
  },
  {
   "cell_type": "markdown",
   "metadata": {},
   "source": [
    "# Time complexity: O(nlogn), space complexity: O(n)"
   ]
  },
  {
   "cell_type": "code",
   "execution_count": 5,
   "metadata": {},
   "outputs": [
    {
     "name": "stdout",
     "output_type": "stream",
     "text": [
      "[11, 13, 17, 19, 23, 27, 31, 47, 54, 59, 107]\n"
     ]
    }
   ],
   "source": [
    "def quick_sort(a_list):\n",
    "    quick_sort_helper(a_list, 0, len(a_list) -1)\n",
    "def quick_sort_helper(a_list, first, last):\n",
    "    if first < last:\n",
    "        split = partition(a_list, first, last)\n",
    "        quick_sort_helper(a_list, first, split - 1)\n",
    "        quick_sort_helper(a_list,split + 1, last)\n",
    "def partition(a_list, first, last):\n",
    "    pivot_val = a_list[first]\n",
    "    left_mark = first + 1\n",
    "    right_mark = last\n",
    "    done = False\n",
    "    while not done:\n",
    "        while left_mark <= right_mark and a_list[left_mark] <= pivot_val:\n",
    "            left_mark = left_mark +1\n",
    "        while left_mark <= right_mark and a_list[right_mark] >= pivot_val:\n",
    "            right_mark = right_mark - 1\n",
    "        if right_mark < left_mark:\n",
    "            done = True\n",
    "        else:\n",
    "            a_list[left_mark], a_list[right_mark] = (\n",
    "            a_list[right_mark],\n",
    "            a_list[left_mark]\n",
    "            )\n",
    "    a_list[first], a_list[right_mark] = a_list[right_mark], a_list[first]\n",
    "    return right_mark\n",
    "a_list = [54,59,17,19,23,11,13,31,47,107,27]\n",
    "quick_sort(a_list)\n",
    "print(a_list)"
   ]
  },
  {
   "cell_type": "code",
   "execution_count": null,
   "metadata": {},
   "outputs": [],
   "source": []
  }
 ],
 "metadata": {
  "kernelspec": {
   "display_name": "Python 3",
   "language": "python",
   "name": "python3"
  },
  "language_info": {
   "codemirror_mode": {
    "name": "ipython",
    "version": 3
   },
   "file_extension": ".py",
   "mimetype": "text/x-python",
   "name": "python",
   "nbconvert_exporter": "python",
   "pygments_lexer": "ipython3",
   "version": "3.8.3"
  }
 },
 "nbformat": 4,
 "nbformat_minor": 4
}
