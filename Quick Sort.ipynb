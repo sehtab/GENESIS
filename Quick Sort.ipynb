{
 "cells": [
  {
   "cell_type": "markdown",
   "metadata": {},
   "source": [
    "# Quick Sort"
   ]
  },
  {
   "cell_type": "code",
   "execution_count": 4,
   "metadata": {},
   "outputs": [
    {
     "name": "stdout",
     "output_type": "stream",
     "text": [
      "7\n",
      "None\n",
      "Program Time: 0.0006974019997869618 seconds\n"
     ]
    }
   ],
   "source": [
    "import timeit\n",
    "start= timeit.default_timer()\n",
    "def partition(customlist, low, high):\n",
    "    i = low - 1\n",
    "    pivot = customlist[high]\n",
    "    for j in range(low, high,):\n",
    "        if customlist[j] <= pivot:\n",
    "            i += 1\n",
    "            customlist[i], customlist[j] = customlist[j], customlist[i]\n",
    "    customlist[i+1], customlist[high] = customlist[high], customlist[i+1]\n",
    "    return (i+1)\n",
    "def quicksort(customlist, low, high):\n",
    "    if low < high:\n",
    "        pi = partition(customlist, low, high)\n",
    "        quicksort(customlist, low, pi-1)\n",
    "        quicksort(customlist, pi+1, high)\n",
    "        \n",
    "clist = [0,5,2,9,1,4,3,7,8 ]\n",
    "print(partition(clist,0,8))\n",
    "print(quicksort(clist,0,8))\n",
    "stop = timeit.default_timer()\n",
    "execution_time = stop - start\n",
    "print(f'Program Time: {execution_time} seconds')"
   ]
  },
  {
   "cell_type": "markdown",
   "metadata": {},
   "source": [
    "# Time complexity: O(nlogn), space complexity: O(n)"
   ]
  },
  {
   "cell_type": "code",
   "execution_count": 3,
   "metadata": {},
   "outputs": [
    {
     "name": "stdout",
     "output_type": "stream",
     "text": [
      "[11, 13, 17, 19, 23, 27, 31, 47, 54, 59, 107]\n",
      "Program Time: 0.0008790129995759344 seconds\n"
     ]
    }
   ],
   "source": [
    "import timeit\n",
    "start= timeit.default_timer()\n",
    "def quick_sort(a_list):\n",
    "    quick_sort_helper(a_list, 0, len(a_list) -1)\n",
    "def quick_sort_helper(a_list, first, last):\n",
    "    if first < last:\n",
    "        split = partition(a_list, first, last)\n",
    "        quick_sort_helper(a_list, first, split - 1)\n",
    "        quick_sort_helper(a_list,split + 1, last)\n",
    "def partition(a_list, first, last):\n",
    "    pivot_val = a_list[first]\n",
    "    left_mark = first + 1\n",
    "    right_mark = last\n",
    "    done = False\n",
    "    while not done:\n",
    "        while left_mark <= right_mark and a_list[left_mark] <= pivot_val:\n",
    "            left_mark = left_mark +1\n",
    "        while left_mark <= right_mark and a_list[right_mark] >= pivot_val:\n",
    "            right_mark = right_mark - 1\n",
    "        if right_mark < left_mark:\n",
    "            done = True\n",
    "        else:\n",
    "            a_list[left_mark], a_list[right_mark] = (\n",
    "            a_list[right_mark],\n",
    "            a_list[left_mark]\n",
    "            )\n",
    "    a_list[first], a_list[right_mark] = a_list[right_mark], a_list[first]\n",
    "    return right_mark\n",
    "a_list = [54,59,17,19,23,11,13,31,47,107,27]\n",
    "quick_sort(a_list)\n",
    "print(a_list)\n",
    "stop = timeit.default_timer()\n",
    "execution_time = stop - start\n",
    "print(f'Program Time: {execution_time} seconds')"
   ]
  },
  {
   "cell_type": "code",
   "execution_count": 2,
   "metadata": {},
   "outputs": [
    {
     "name": "stdout",
     "output_type": "stream",
     "text": [
      "Original Array: [54, 59, 17, 19, 23, 11, 13, 31, 47, 107, 27]\n",
      "Quicksorted Array: [11, 13, 17, 19, 23, 27, 31, 47, 54, 59, 107]\n",
      "Program Time: 0.0008028310003282968 seconds\n"
     ]
    }
   ],
   "source": [
    "import timeit\n",
    "start= timeit.default_timer()\n",
    "def quicksort(arr):\n",
    "    elements = len(arr)\n",
    "    # Base case\n",
    "    if elements < 2:\n",
    "        return arr\n",
    "    current_position = 0 # position of the partitioning element\n",
    "    for i in range(1, elements): # partitioning loop\n",
    "        if arr[i] <= arr[0]:\n",
    "            current_position += 1\n",
    "            temp = arr[i]\n",
    "            arr[i] = arr[current_position]\n",
    "            arr[current_position] = temp\n",
    "    temp = arr[0]\n",
    "    arr[0] = arr[current_position]\n",
    "    arr[current_position] = temp # brings pivot to it's approriate position\n",
    "    left = quicksort(arr[0:current_position]) # sorts elements to left\n",
    "    right = quicksort(arr[current_position+1:elements]) # sorts elements to right\n",
    "    arr = left + [arr[current_position]] + right # merging everything\n",
    "    return arr\n",
    "a = [54,59,17,19,23,11,13,31,47,107,27]\n",
    "print('Original Array:',a)\n",
    "print('Quicksorted Array:',quicksort(a))\n",
    "stop = timeit.default_timer()\n",
    "execution_time = stop - start\n",
    "print(f'Program Time: {execution_time} seconds')\n",
    "        "
   ]
  },
  {
   "cell_type": "code",
   "execution_count": 5,
   "metadata": {},
   "outputs": [
    {
     "name": "stdout",
     "output_type": "stream",
     "text": [
      "Original Array:  [4, 2, 7, 3, 1, 6]\n",
      "Sorted Array:  [1, 2, 3, 4, 6, 7]\n",
      "Program Time: 0.0006116779995863908 seconds\n"
     ]
    }
   ],
   "source": [
    "import timeit\n",
    "start= timeit.default_timer()\n",
    "def QuickSort(arr):\n",
    "\n",
    "    elements = len(arr)\n",
    "    \n",
    "    #Base case\n",
    "    if elements < 2:\n",
    "        return arr\n",
    "    \n",
    "    current_position = 0 #Position of the partitioning element\n",
    "\n",
    "    for i in range(1, elements): #Partitioning loop\n",
    "         if arr[i] <= arr[0]:\n",
    "              current_position += 1\n",
    "              temp = arr[i]\n",
    "              arr[i] = arr[current_position]\n",
    "              arr[current_position] = temp\n",
    "\n",
    "    temp = arr[0]\n",
    "    arr[0] = arr[current_position] \n",
    "    arr[current_position] = temp #Brings pivot to it's appropriate position\n",
    "    \n",
    "    left = QuickSort(arr[0:current_position]) #Sorts the elements to the left of pivot\n",
    "    right = QuickSort(arr[current_position+1:elements]) #sorts the elements to the right of pivot\n",
    "\n",
    "    arr = left + [arr[current_position]] + right #Merging everything together\n",
    "    \n",
    "    return arr\n",
    "\n",
    "\n",
    "\n",
    "array_to_be_sorted = [4,2,7,3,1,6]\n",
    "print(\"Original Array: \",array_to_be_sorted)\n",
    "print(\"Sorted Array: \",QuickSort(array_to_be_sorted))\n",
    "stop = timeit.default_timer()\n",
    "execution_time = stop - start\n",
    "print(f'Program Time: {execution_time} seconds')"
   ]
  },
  {
   "cell_type": "code",
   "execution_count": null,
   "metadata": {},
   "outputs": [],
   "source": []
  }
 ],
 "metadata": {
  "kernelspec": {
   "display_name": "Python 3",
   "language": "python",
   "name": "python3"
  },
  "language_info": {
   "codemirror_mode": {
    "name": "ipython",
    "version": 3
   },
   "file_extension": ".py",
   "mimetype": "text/x-python",
   "name": "python",
   "nbconvert_exporter": "python",
   "pygments_lexer": "ipython3",
   "version": "3.8.3"
  }
 },
 "nbformat": 4,
 "nbformat_minor": 4
}
