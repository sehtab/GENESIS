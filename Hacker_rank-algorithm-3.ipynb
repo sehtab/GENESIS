{
 "cells": [
  {
   "cell_type": "markdown",
   "metadata": {},
   "source": [
    "# coin change using memoization"
   ]
  },
  {
   "cell_type": "code",
   "execution_count": 1,
   "metadata": {},
   "outputs": [
    {
     "name": "stdout",
     "output_type": "stream",
     "text": [
      "4\n"
     ]
    }
   ],
   "source": [
    "def count(coins, n, sum):\n",
    "    # if sum is 0 then there is 1\n",
    "    if (sum == 0):\n",
    "        return 1\n",
    "    # if sum is less than 0 then no solution exists\n",
    "    if (sum < 0):\n",
    "        return 0\n",
    "    # if there are no coins and sum is greater than 0, then no solution exists\n",
    "    if (n <= 0):\n",
    "        return 0\n",
    "    # count is sum of solution (i) including coins[n-1] (ii) excluding coins[n-1]\n",
    "    return count(coins, n-1, sum) + count(coins, n, sum-coins[n-1])\n",
    "# driver program\n",
    "coins=[1,2,3]\n",
    "n=len(coins)\n",
    "print(count(coins, n, 4))"
   ]
  },
  {
   "cell_type": "raw",
   "metadata": {},
   "source": [
    "def count(coins, n, sum):\n",
    "    table = [[0 for x in range(n)] for x in range(sum+1)]\n",
    "    for i in range(n):\n",
    "        table[0][i] = 1\n",
    "    for i in range(1, sum+1):\n",
    "        for j in range(n):\n",
    "            x = table[i - coins[j]][j] if i-coins[j] >= 0 else 0\n",
    "            y = table[i][j-1] if j >= 1 else 0\n",
    "            table[i][j] = x+y\n",
    "    return table[sum][n-1]\n",
    "if __name__ == \"__main__\":\n",
    "    coins=[1,2,3]\n",
    "    n=len(coins)\n",
    "    print(count(coins, n, 4))"
   ]
  },
  {
   "cell_type": "markdown",
   "metadata": {},
   "source": [
    "# Sort an array with comparator"
   ]
  },
  {
   "cell_type": "code",
   "execution_count": 3,
   "metadata": {},
   "outputs": [
    {
     "name": "stdout",
     "output_type": "stream",
     "text": [
      "100\n",
      "20\n"
     ]
    },
    {
     "ename": "ValueError",
     "evalue": "not enough values to unpack (expected 2, got 1)",
     "output_type": "error",
     "traceback": [
      "\u001b[0;31m---------------------------------------------------------------------------\u001b[0m",
      "\u001b[0;31mValueError\u001b[0m                                Traceback (most recent call last)",
      "\u001b[0;32m<ipython-input-3-0feed428d277>\u001b[0m in \u001b[0;36m<module>\u001b[0;34m\u001b[0m\n\u001b[1;32m     19\u001b[0m \u001b[0mdata\u001b[0m \u001b[0;34m=\u001b[0m \u001b[0;34m[\u001b[0m\u001b[0;34m]\u001b[0m\u001b[0;34m\u001b[0m\u001b[0;34m\u001b[0m\u001b[0m\n\u001b[1;32m     20\u001b[0m \u001b[0;32mfor\u001b[0m \u001b[0mi\u001b[0m \u001b[0;32min\u001b[0m \u001b[0mrange\u001b[0m\u001b[0;34m(\u001b[0m\u001b[0mn\u001b[0m\u001b[0;34m)\u001b[0m\u001b[0;34m:\u001b[0m\u001b[0;34m\u001b[0m\u001b[0;34m\u001b[0m\u001b[0m\n\u001b[0;32m---> 21\u001b[0;31m     \u001b[0mname\u001b[0m\u001b[0;34m,\u001b[0m \u001b[0mscore\u001b[0m \u001b[0;34m=\u001b[0m \u001b[0minput\u001b[0m\u001b[0;34m(\u001b[0m\u001b[0;34m)\u001b[0m\u001b[0;34m.\u001b[0m\u001b[0msplit\u001b[0m\u001b[0;34m(\u001b[0m\u001b[0;34m)\u001b[0m\u001b[0;34m\u001b[0m\u001b[0;34m\u001b[0m\u001b[0m\n\u001b[0m\u001b[1;32m     22\u001b[0m     \u001b[0mscore\u001b[0m\u001b[0;34m=\u001b[0m\u001b[0mint\u001b[0m\u001b[0;34m(\u001b[0m\u001b[0mscore\u001b[0m\u001b[0;34m)\u001b[0m\u001b[0;34m\u001b[0m\u001b[0;34m\u001b[0m\u001b[0m\n\u001b[1;32m     23\u001b[0m     \u001b[0mplayer\u001b[0m \u001b[0;34m=\u001b[0m \u001b[0mPlayer\u001b[0m\u001b[0;34m(\u001b[0m\u001b[0mname\u001b[0m\u001b[0;34m,\u001b[0m \u001b[0mscore\u001b[0m\u001b[0;34m)\u001b[0m\u001b[0;34m\u001b[0m\u001b[0;34m\u001b[0m\u001b[0m\n",
      "\u001b[0;31mValueError\u001b[0m: not enough values to unpack (expected 2, got 1)"
     ]
    }
   ],
   "source": [
    "from functools import cmp_to_key\n",
    "class Player:\n",
    "    def __init__(self, name, score):\n",
    "        self.name = name\n",
    "        self.score = score\n",
    "    def __repr__(self):\n",
    "        return {'name': self.name, 'score': self.score}\n",
    "    def comparator(a, b):\n",
    "        if a.score > b.score:\n",
    "            return -1\n",
    "        if a.score < b.score:\n",
    "            return 1\n",
    "        if a.name < b.name:\n",
    "            return -1\n",
    "        if a.name > b.name:\n",
    "            return 1\n",
    "        return 0\n",
    "n = int(input())\n",
    "data = []\n",
    "for i in range(n):\n",
    "    name, score = input().split()\n",
    "    score=int(score)\n",
    "    player = Player(name, score)\n",
    "    data.append(player)\n",
    "data=sorted(data, key=cmp_to_key(Player.comparator))\n",
    "for i in data:\n",
    "    print(i.name, i.score)"
   ]
  },
  {
   "cell_type": "markdown",
   "metadata": {},
   "source": [
    "# Bit manipulation"
   ]
  },
  {
   "cell_type": "code",
   "execution_count": 6,
   "metadata": {},
   "outputs": [
    {
     "name": "stdout",
     "output_type": "stream",
     "text": [
      "a & b = 0\n",
      "a | b = 14\n",
      "~a = -11\n",
      "a ^ b = 14\n"
     ]
    }
   ],
   "source": [
    "a = 10\n",
    "b = 4\n",
    "print('a & b =', a&b)\n",
    "print('a | b =', a | b)\n",
    "print('~a =', ~a)\n",
    "print('a ^ b =', a ^ b)"
   ]
  },
  {
   "cell_type": "code",
   "execution_count": 7,
   "metadata": {},
   "outputs": [
    {
     "name": "stdout",
     "output_type": "stream",
     "text": [
      "5\n"
     ]
    }
   ],
   "source": [
    "# shift operator\n",
    "a = 10\n",
    "print(a >> 1)"
   ]
  },
  {
   "cell_type": "code",
   "execution_count": 8,
   "metadata": {},
   "outputs": [
    {
     "name": "stdout",
     "output_type": "stream",
     "text": [
      "40\n"
     ]
    }
   ],
   "source": [
    "# Bitwise left shift\n",
    "print(a << 2)"
   ]
  },
  {
   "cell_type": "markdown",
   "metadata": {},
   "source": [
    "# DFS"
   ]
  },
  {
   "cell_type": "code",
   "execution_count": 9,
   "metadata": {},
   "outputs": [
    {
     "name": "stdout",
     "output_type": "stream",
     "text": [
      "Following is DFS from (starting from vertex 2)\n",
      "2 0 1 3 "
     ]
    }
   ],
   "source": [
    "# Python3 program to print DFS traversal\n",
    "# from a given graph\n",
    "from collections import defaultdict\n",
    "\n",
    "# This class represents a directed graph using\n",
    "# adjacency list representation\n",
    "\n",
    "\n",
    "class Graph:\n",
    "\n",
    "\t# Constructor\n",
    "\tdef __init__(self):\n",
    "\n",
    "\t\t# default dictionary to store graph\n",
    "\t\tself.graph = defaultdict(list)\n",
    "\n",
    "\t# function to add an edge to graph\n",
    "\tdef addEdge(self, u, v):\n",
    "\t\tself.graph[u].append(v)\n",
    "\n",
    "\t# A function used by DFS\n",
    "\tdef DFSUtil(self, v, visited):\n",
    "\n",
    "\t\t# Mark the current node as visited\n",
    "\t\t# and print it\n",
    "\t\tvisited.add(v)\n",
    "\t\tprint(v, end=' ')\n",
    "\n",
    "\t\t# Recur for all the vertices\n",
    "\t\t# adjacent to this vertex\n",
    "\t\tfor neighbour in self.graph[v]:\n",
    "\t\t\tif neighbour not in visited:\n",
    "\t\t\t\tself.DFSUtil(neighbour, visited)\n",
    "\n",
    "\t# The function to do DFS traversal. It uses\n",
    "\t# recursive DFSUtil()\n",
    "\tdef DFS(self, v):\n",
    "\n",
    "\t\t# Create a set to store visited vertices\n",
    "\t\tvisited = set()\n",
    "\n",
    "\t\t# Call the recursive helper function\n",
    "\t\t# to print DFS traversal\n",
    "\t\tself.DFSUtil(v, visited)\n",
    "\n",
    "# Driver's code\n",
    "\n",
    "\n",
    "# Create a graph given\n",
    "# in the above diagram\n",
    "if __name__ == \"__main__\":\n",
    "\tg = Graph()\n",
    "\tg.addEdge(0, 1)\n",
    "\tg.addEdge(0, 2)\n",
    "\tg.addEdge(1, 2)\n",
    "\tg.addEdge(2, 0)\n",
    "\tg.addEdge(2, 3)\n",
    "\tg.addEdge(3, 3)\n",
    "\n",
    "\tprint(\"Following is DFS from (starting from vertex 2)\")\n",
    "\t# Function call\n",
    "\tg.DFS(2)\n",
    "\n",
    "# This code is contributed by Neelam Yadav\n"
   ]
  },
  {
   "cell_type": "markdown",
   "metadata": {},
   "source": [
    "# BFS"
   ]
  },
  {
   "cell_type": "code",
   "execution_count": 10,
   "metadata": {},
   "outputs": [
    {
     "name": "stdout",
     "output_type": "stream",
     "text": [
      "Following is Breadth First Traversal (starting from vertex 2)\n",
      "2 0 3 1 "
     ]
    }
   ],
   "source": [
    "# Python3 Program to print BFS traversal\n",
    "# from a given source vertex. BFS(int s)\n",
    "# traverses vertices reachable from s.\n",
    "from collections import defaultdict\n",
    "\n",
    "# This class represents a directed graph\n",
    "# using adjacency list representation\n",
    "\n",
    "\n",
    "class Graph:\n",
    "\n",
    "\t# Constructor\n",
    "\tdef __init__(self):\n",
    "\n",
    "\t\t# default dictionary to store graph\n",
    "\t\tself.graph = defaultdict(list)\n",
    "\n",
    "\t# function to add an edge to graph\n",
    "\tdef addEdge(self, u, v):\n",
    "\t\tself.graph[u].append(v)\n",
    "\n",
    "\t# Function to print a BFS of graph\n",
    "\tdef BFS(self, s):\n",
    "\n",
    "\t\t# Mark all the vertices as not visited\n",
    "\t\tvisited = [False] * (max(self.graph) + 1)\n",
    "\n",
    "\t\t# Create a queue for BFS\n",
    "\t\tqueue = []\n",
    "\n",
    "\t\t# Mark the source node as\n",
    "\t\t# visited and enqueue it\n",
    "\t\tqueue.append(s)\n",
    "\t\tvisited[s] = True\n",
    "\n",
    "\t\twhile queue:\n",
    "\n",
    "\t\t\t# Dequeue a vertex from\n",
    "\t\t\t# queue and print it\n",
    "\t\t\ts = queue.pop(0)\n",
    "\t\t\tprint(s, end=\" \")\n",
    "\n",
    "\t\t\t# Get all adjacent vertices of the\n",
    "\t\t\t# dequeued vertex s. If a adjacent\n",
    "\t\t\t# has not been visited, then mark it\n",
    "\t\t\t# visited and enqueue it\n",
    "\t\t\tfor i in self.graph[s]:\n",
    "\t\t\t\tif visited[i] == False:\n",
    "\t\t\t\t\tqueue.append(i)\n",
    "\t\t\t\t\tvisited[i] = True\n",
    "\n",
    "# Driver code\n",
    "\n",
    "\n",
    "# Create a graph given in\n",
    "# the above diagram\n",
    "g = Graph()\n",
    "g.addEdge(0, 1)\n",
    "g.addEdge(0, 2)\n",
    "g.addEdge(1, 2)\n",
    "g.addEdge(2, 0)\n",
    "g.addEdge(2, 3)\n",
    "g.addEdge(3, 3)\n",
    "\n",
    "print(\"Following is Breadth First Traversal\"\n",
    "\t\" (starting from vertex 2)\")\n",
    "g.BFS(2)\n",
    "\n",
    "# This code is contributed by Neelam Yadav\n"
   ]
  },
  {
   "cell_type": "markdown",
   "metadata": {},
   "source": [
    "# lonely integer"
   ]
  },
  {
   "cell_type": "code",
   "execution_count": 3,
   "metadata": {},
   "outputs": [
    {
     "name": "stdout",
     "output_type": "stream",
     "text": [
      "10\n",
      "5\n",
      "5\n"
     ]
    }
   ],
   "source": [
    "def lonelyinteger(a):\n",
    "    answer = 0\n",
    "    for candidate in a:\n",
    "        answer ^= candidate\n",
    "    return answer\n",
    "if __name__ == '__main__':\n",
    "    a = input()\n",
    "    b = map(int, input().strip().split(\" \"))\n",
    "    print(lonelyinteger(b))"
   ]
  },
  {
   "cell_type": "code",
   "execution_count": null,
   "metadata": {},
   "outputs": [],
   "source": []
  }
 ],
 "metadata": {
  "kernelspec": {
   "display_name": "Python 3",
   "language": "python",
   "name": "python3"
  },
  "language_info": {
   "codemirror_mode": {
    "name": "ipython",
    "version": 3
   },
   "file_extension": ".py",
   "mimetype": "text/x-python",
   "name": "python",
   "nbconvert_exporter": "python",
   "pygments_lexer": "ipython3",
   "version": "3.8.3"
  }
 },
 "nbformat": 4,
 "nbformat_minor": 4
}
