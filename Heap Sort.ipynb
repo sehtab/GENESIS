{
 "cells": [
  {
   "cell_type": "markdown",
   "metadata": {},
   "source": [
    "# Heap Sort"
   ]
  },
  {
   "cell_type": "code",
   "execution_count": 4,
   "metadata": {},
   "outputs": [
    {
     "name": "stdout",
     "output_type": "stream",
     "text": [
      "None\n"
     ]
    }
   ],
   "source": [
    "def heapify(customlist,n,i):\n",
    "    smallest = i\n",
    "    l = 2*i+1\n",
    "    r = 2*i+2\n",
    "    if l < n and customlist[l] < customlist[smallest]:\n",
    "        smallest = l\n",
    "    if r < n and customlist[r] < customlist[smallest]:\n",
    "        smallest = r\n",
    "    if smallest != i:\n",
    "        customlist[i], customlist[smallest] = customlist[smallest], customlist[i]\n",
    "        heapify(customlist,n,smallest)\n",
    "def heapsort(customlist):\n",
    "    n = len(customlist)\n",
    "    for i in range(int(n/2)-1, -1, -1):\n",
    "        heapify(customlist, n,i)\n",
    "    for i in range(n-1,0,-1):\n",
    "        customlist[i], customlist[0] = customlist[0], customlist[i]\n",
    "        heapify(customlist,i,0)\n",
    "clist = [2,1,7,6,5,3,4,9,8]\n",
    "print(heapsort(clist))"
   ]
  },
  {
   "cell_type": "markdown",
   "metadata": {},
   "source": [
    "# Time complexity:  O(nlogn)  , Space complexity: O(1)"
   ]
  },
  {
   "cell_type": "code",
   "execution_count": 5,
   "metadata": {},
   "outputs": [
    {
     "name": "stdout",
     "output_type": "stream",
     "text": [
      "Sorted array is\n",
      "5\n",
      "6\n",
      "7\n",
      "11\n",
      "12\n",
      "13\n"
     ]
    }
   ],
   "source": [
    "def heapify(arr, n, i):\n",
    "    largest = i  # Initialize largest as root\n",
    "    l = 2 * i + 1     # left = 2*i + 1\n",
    "    r = 2 * i + 2     # right = 2*i + 2\n",
    "  \n",
    "    # See if left child of root exists and is\n",
    "    # greater than root\n",
    "    if l < n and arr[i] < arr[l]:\n",
    "        largest = l\n",
    "  \n",
    "    # See if right child of root exists and is\n",
    "    # greater than root\n",
    "    if r < n and arr[largest] < arr[r]:\n",
    "        largest = r\n",
    "  \n",
    "    # Change root, if needed\n",
    "    if largest != i:\n",
    "        arr[i],arr[largest] = arr[largest],arr[i]  # swap\n",
    "  \n",
    "        # Heapify the root.\n",
    "        heapify(arr, n, largest)\n",
    "  \n",
    "# The main function to sort an array of given size\n",
    "def heapSort(arr):\n",
    "    n = len(arr)\n",
    "  \n",
    "    # Build a maxheap.\n",
    "    # Since last parent will be at ((n//2)-1) we can start at that location.\n",
    "    for i in range(n // 2 - 1, -1, -1):\n",
    "        heapify(arr, n, i)\n",
    "  \n",
    "    # One by one extract elements\n",
    "    for i in range(n-1, 0, -1):\n",
    "        arr[i], arr[0] = arr[0], arr[i]   # swap\n",
    "        heapify(arr, i, 0)\n",
    "# Driver code to test above\n",
    "arr = [ 12, 11, 13, 5, 6, 7]\n",
    "heapSort(arr)\n",
    "n = len(arr)\n",
    "print (\"Sorted array is\")\n",
    "for i in range(n):\n",
    "    print (\"%d\" %arr[i]),"
   ]
  },
  {
   "cell_type": "code",
   "execution_count": null,
   "metadata": {},
   "outputs": [],
   "source": []
  }
 ],
 "metadata": {
  "kernelspec": {
   "display_name": "Python 3",
   "language": "python",
   "name": "python3"
  },
  "language_info": {
   "codemirror_mode": {
    "name": "ipython",
    "version": 3
   },
   "file_extension": ".py",
   "mimetype": "text/x-python",
   "name": "python",
   "nbconvert_exporter": "python",
   "pygments_lexer": "ipython3",
   "version": "3.8.3"
  }
 },
 "nbformat": 4,
 "nbformat_minor": 4
}
