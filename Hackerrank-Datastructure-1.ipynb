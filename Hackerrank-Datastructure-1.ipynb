{
 "cells": [
  {
   "cell_type": "markdown",
   "metadata": {},
   "source": [
    "# Balanced parenthesis in expression"
   ]
  },
  {
   "cell_type": "code",
   "execution_count": 5,
   "metadata": {},
   "outputs": [
    {
     "name": "stdout",
     "output_type": "stream",
     "text": [
      "Unbalanced\n"
     ]
    }
   ],
   "source": [
    "# function to check if brackets are balanced\n",
    "\n",
    "def balancedbracket(expr):\n",
    "    stack = []\n",
    "    # traversing in the expression\n",
    "    for char in expr:\n",
    "        if char in [\"(\", \"{\", \"[\"]:\n",
    "            stack.append(char)\n",
    "        else:\n",
    "            # if current character s not opening brackets, \n",
    "            #then it must be closing. So stack can't be empty at this point.\n",
    "            if not stack: \n",
    "                return False\n",
    "            current_char = stack.pop()\n",
    "            if current_char == \"(\":\n",
    "                if char != \")\":\n",
    "                    return False\n",
    "            if current_char == \"{\":\n",
    "                if char != \"}\":\n",
    "                    return False\n",
    "            if current_char == \"[\":\n",
    "                if char != \"]\":\n",
    "                    return False\n",
    "        # check empty stack\n",
    "        if stack:\n",
    "            return False\n",
    "        return True\n",
    "    if balancedbracket(expr):\n",
    "        print(\"Balanced\")\n",
    "    else: print(\"Unbalanced\")\n",
    "# Driver code\n",
    "#expr = \"{}])\"\n",
    "#balancedbracket(expr)\n",
    "if __name__ == \"__main__\":\n",
    "    expr = \"{]}()\"\n",
    "    # function call\n",
    "    if balancedbracket(expr):\n",
    "        print(\"Balanced\")\n",
    "    else: print(\"Unbalanced\")"
   ]
  },
  {
   "cell_type": "code",
   "execution_count": 11,
   "metadata": {},
   "outputs": [
    {
     "name": "stdout",
     "output_type": "stream",
     "text": [
      "False\n",
      "False\n"
     ]
    }
   ],
   "source": [
    "def balancedbracket(expr):\n",
    "    stack = []\n",
    "    # traversing in the expression\n",
    "    for char in expr:\n",
    "        if char in [\"(\", \"{\", \"[\"]:\n",
    "            stack.append(char)\n",
    "        else:\n",
    "            # if current character s not opening brackets, \n",
    "            #then it must be closing. So stack can't be empty at this point.\n",
    "            if not stack: \n",
    "                return False\n",
    "            current_char = stack.pop()\n",
    "            if current_char == \"(\":\n",
    "                if char != \")\":\n",
    "                    return \"Unbalanced\"\n",
    "                #else: return \"Balanced\"\n",
    "            if current_char == \"{\":\n",
    "                if char != \"}\":\n",
    "                    return \"Unbalanced\"\n",
    "                #else: return \"Balanced\"\n",
    "            if current_char == \"[\":\n",
    "                if char != \"]\":\n",
    "                    return \"Unbalanced\"\n",
    "                \n",
    "        # check empty stack\n",
    "        if stack:\n",
    "            return False\n",
    "        return True\n",
    "# Driver code\n",
    "expr1 = \"{}])\"\n",
    "expr2 = \"{[()]}\"\n",
    "print(balancedbracket(expr1))\n",
    "print(balancedbracket(expr2))"
   ]
  },
  {
   "cell_type": "markdown",
   "metadata": {},
   "source": [
    "# Queue using Stacks"
   ]
  },
  {
   "cell_type": "code",
   "execution_count": 13,
   "metadata": {},
   "outputs": [
    {
     "name": "stdout",
     "output_type": "stream",
     "text": [
      "1\n",
      "2\n",
      "3\n"
     ]
    }
   ],
   "source": [
    "# queue using 2 stacks\n",
    "class queue():\n",
    "    def __init__(self):\n",
    "        self.s1 = []\n",
    "        self.s2 = []\n",
    "    # enqueue item to the queue\n",
    "    def enqueue(self, x):\n",
    "        self.s1.append(x)\n",
    "    # dequeue item from the queue\n",
    "    def dequeue(self):\n",
    "        # if both stacks are empty\n",
    "        if len(self.s1) == 0 and len(self.s2) == 0:\n",
    "            print('Q is empty')\n",
    "            return\n",
    "        # if s2 is empty and s1 has elements\n",
    "        elif len(self.s2) == 0 and len(self.s1) > 0:\n",
    "            while len(self.s1):\n",
    "                temp = self.s1.pop()\n",
    "                self.s2.append(temp)\n",
    "            return self.s2.pop()\n",
    "        else: return self.s2.pop()\n",
    "# driver code\n",
    "if __name__ == \"__main__\":\n",
    "    q = queue()\n",
    "    q.enqueue(1)\n",
    "    q.enqueue(2)\n",
    "    q.enqueue(3)\n",
    "    \n",
    "    print(q.dequeue())\n",
    "    print(q.dequeue())\n",
    "    print(q.dequeue())"
   ]
  },
  {
   "cell_type": "markdown",
   "metadata": {},
   "source": [
    "# Stack and Queue"
   ]
  },
  {
   "cell_type": "code",
   "execution_count": 14,
   "metadata": {},
   "outputs": [
    {
     "name": "stdout",
     "output_type": "stream",
     "text": [
      "['a', 'b', 'c', 'd', 'e']\n",
      "e\n",
      "['a', 'b', 'c', 'd']\n",
      "d\n",
      "['a', 'b', 'c']\n"
     ]
    }
   ],
   "source": [
    "# stack using list\n",
    "s = ['a', 'b', 'c']\n",
    "s.append('d')\n",
    "s.append('e')\n",
    "print(s)\n",
    "# remove the last item\n",
    "print(s.pop())\n",
    "print(s)\n",
    "# remove the last item\n",
    "print(s.pop())\n",
    "print(s)"
   ]
  },
  {
   "cell_type": "code",
   "execution_count": 15,
   "metadata": {},
   "outputs": [
    {
     "name": "stdout",
     "output_type": "stream",
     "text": [
      "['a', 'b', 'c', 'd', 'e']\n",
      "a\n",
      "['b', 'c', 'd', 'e']\n",
      "b\n",
      "['c', 'd', 'e']\n"
     ]
    }
   ],
   "source": [
    "# queue using list\n",
    "q = ['a', 'b', 'c']\n",
    "q.append('d')\n",
    "q.append('e')\n",
    "print(q)\n",
    "# removes the first item\n",
    "print(q.pop(0))\n",
    "print(q)\n",
    "# removes the first item\n",
    "print(q.pop(0))\n",
    "print(q)"
   ]
  },
  {
   "cell_type": "code",
   "execution_count": 16,
   "metadata": {},
   "outputs": [
    {
     "name": "stdout",
     "output_type": "stream",
     "text": [
      "deque(['a', 'b', 'c'])\n",
      "deque(['a', 'b', 'c', 'd'])\n",
      "deque(['a', 'b', 'c', 'd', 'e'])\n",
      "e\n",
      "d\n",
      "deque(['a', 'b', 'c'])\n"
     ]
    }
   ],
   "source": [
    "# stack using deque\n",
    "from collections import deque\n",
    "q = deque(['a', 'b', 'c'])\n",
    "print(q)\n",
    "q.append('d')\n",
    "print(q)\n",
    "q.append('e')\n",
    "print(q)\n",
    "print(q.pop())\n",
    "print(q.pop())\n",
    "print(q)"
   ]
  },
  {
   "cell_type": "code",
   "execution_count": 17,
   "metadata": {},
   "outputs": [
    {
     "name": "stdout",
     "output_type": "stream",
     "text": [
      "deque(['a', 'b', 'c'])\n",
      "deque(['a', 'b', 'c', 'd'])\n",
      "deque(['a', 'b', 'c', 'd', 'e'])\n",
      "a\n",
      "b\n",
      "deque(['c', 'd', 'e'])\n"
     ]
    }
   ],
   "source": [
    "# queue using deque\n",
    "from collections import deque\n",
    "q = deque(['a', 'b', 'c'])\n",
    "print(q)\n",
    "q.append('d')\n",
    "print(q)\n",
    "q.append('e')\n",
    "print(q)\n",
    "print(q.popleft())\n",
    "print(q.popleft())\n",
    "print(q)"
   ]
  },
  {
   "cell_type": "markdown",
   "metadata": {},
   "source": [
    "# Detecting a cycle in a linked list"
   ]
  },
  {
   "cell_type": "code",
   "execution_count": 18,
   "metadata": {},
   "outputs": [
    {
     "name": "stdout",
     "output_type": "stream",
     "text": [
      "Loop found\n"
     ]
    }
   ],
   "source": [
    "class node:\n",
    "    def __init__(self, data):\n",
    "        self.data = data\n",
    "        self.next = None\n",
    "        \n",
    "class linkedlist:\n",
    "    def __init__(self):\n",
    "        self.head = None\n",
    "     # function to insert a new node at the beginning\n",
    "    def push(self, new_data):\n",
    "        new_node = node(new_data)\n",
    "        new_node.next = self.head\n",
    "        self.head = new_node\n",
    "    # utility function to print it\n",
    "    def printlist(self):\n",
    "        temp = self.head\n",
    "        while(temp):\n",
    "            print(temp.data, end= \" \")\n",
    "            temp = temp.next\n",
    "    def detectloop(self):\n",
    "        s = set()\n",
    "        temp = self.head\n",
    "        while (temp):\n",
    "            # if it already have in hashmap, there is cycle\n",
    "            if (temp in s):\n",
    "                return True\n",
    "            # if it is the first time, insert it in hash\n",
    "            s.add(temp)\n",
    "            temp = temp.next\n",
    "        return False\n",
    "    \n",
    "# driver code\n",
    "llist = linkedlist()\n",
    "llist.push(20)\n",
    "llist.push(4)\n",
    "llist.push(15)\n",
    "llist.push(10)\n",
    "# create a loop for testing\n",
    "llist.head.next.next.next.next = llist.head\n",
    "if (llist.detectloop()):\n",
    "    print('Loop found')\n",
    "else:\n",
    "    print('No loop')"
   ]
  },
  {
   "cell_type": "markdown",
   "metadata": {},
   "source": [
    "# Linked list"
   ]
  },
  {
   "cell_type": "code",
   "execution_count": 19,
   "metadata": {},
   "outputs": [],
   "source": [
    "class node:\n",
    "    def __init__(self, data):\n",
    "        self.data = data\n",
    "        self.next = None\n",
    "        \n",
    "class linkedlist:\n",
    "    def __init__(self):\n",
    "        self.head = None"
   ]
  },
  {
   "cell_type": "code",
   "execution_count": 20,
   "metadata": {},
   "outputs": [],
   "source": [
    "# linked list with 3 nodes\n",
    "class node:\n",
    "    def __init__(self, data):\n",
    "        self.data = data\n",
    "        self.next = None\n",
    "        \n",
    "class linkedlist:\n",
    "    def __init__(self):\n",
    "        self.head = None\n",
    "if __name__ == \"__main__\":\n",
    "    llist = linkedlist()\n",
    "    llist.head = node(1)\n",
    "    second = node(2)\n",
    "    third = node(3)\n",
    "    \n",
    "    llist.head.next = second\n",
    "    second.next = third"
   ]
  },
  {
   "cell_type": "code",
   "execution_count": 21,
   "metadata": {},
   "outputs": [
    {
     "name": "stdout",
     "output_type": "stream",
     "text": [
      "1\n",
      "2\n",
      "3\n"
     ]
    }
   ],
   "source": [
    "# traversal of a linked list\n",
    "class node:\n",
    "    def __init__(self, data):\n",
    "        self.data = data\n",
    "        self.next = None\n",
    "        \n",
    "class linkedlist:\n",
    "    def __init__(self):\n",
    "        self.head = None\n",
    "    # function prints contents of the linked list\n",
    "    def printlist(self):\n",
    "        temp = self.head\n",
    "        while (temp):\n",
    "            print(temp.data)\n",
    "            temp = temp.next\n",
    "# driver code\n",
    "if __name__ == \"__main__\":\n",
    "    llist = linkedlist()\n",
    "    \n",
    "    llist.head = node(1)\n",
    "    second = node(2)\n",
    "    third = node(3)\n",
    "    \n",
    "    llist.head.next = second\n",
    "    second.next = third\n",
    "    \n",
    "    llist.printlist()"
   ]
  },
  {
   "cell_type": "code",
   "execution_count": null,
   "metadata": {},
   "outputs": [],
   "source": []
  }
 ],
 "metadata": {
  "kernelspec": {
   "display_name": "Python 3",
   "language": "python",
   "name": "python3"
  },
  "language_info": {
   "codemirror_mode": {
    "name": "ipython",
    "version": 3
   },
   "file_extension": ".py",
   "mimetype": "text/x-python",
   "name": "python",
   "nbconvert_exporter": "python",
   "pygments_lexer": "ipython3",
   "version": "3.8.3"
  }
 },
 "nbformat": 4,
 "nbformat_minor": 4
}
