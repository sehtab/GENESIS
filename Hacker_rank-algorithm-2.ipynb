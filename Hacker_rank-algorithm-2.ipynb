{
 "cells": [
  {
   "cell_type": "markdown",
   "metadata": {},
   "source": [
    "# Connected Cells using DFS"
   ]
  },
  {
   "cell_type": "code",
   "execution_count": 13,
   "metadata": {},
   "outputs": [
    {
     "name": "stdout",
     "output_type": "stream",
     "text": [
      "Number of island is:\n",
      "5\n",
      "Execution time: 0.00105623600029503\n"
     ]
    }
   ],
   "source": [
    "import timeit\n",
    "st = timeit.default_timer()\n",
    "class Graph:\n",
    "    \n",
    "    def __init__(self, row, col, g):\n",
    "        self.row = row\n",
    "        self.col = col\n",
    "        self.graph = g\n",
    "    # a function to check if a given cell (row,col) can be included in DFS\n",
    "    def issafe(self, i, j , visited):\n",
    "        # row, col number is in range and value is 1\n",
    "        return (i >= 0 and i < self.row and\n",
    "               j >= 0 and j < self.col and\n",
    "               not visited[i][j] and self.graph[i][j])\n",
    "    # a utility function to do DFS for a 2D boolean matrix. It only considers the \n",
    "    # 8 neighbors as adjacent vertices\n",
    "    def dfs(self, i, j, visited):\n",
    "        # these arrays are used to get row and column numbers of 8 neighbors\n",
    "        rown = [-1, -1, -1, 0, 0, 1, 1, 1]\n",
    "        coln = [-1, 0, 1, -1, 1,-1,0,1]\n",
    "        # mark this cell as visited\n",
    "        visited[i][j] = True\n",
    "        # recur for all connected neighbors\n",
    "        for k in range(8):\n",
    "            if self.issafe(i + rown[k], j + coln[k], visited):\n",
    "                self.dfs(i + rown[k], j + coln[k], visited)\n",
    "                \n",
    "        # the main function that returns count of islands in a given boolean 2D matrix\n",
    "    def countislands(self):\n",
    "        #make a boolean array to mark to mark visited cells. Initially all cells are unvisted.\n",
    "        visited = [[False for j in range(self.col)] for i in range(self.row)]\n",
    "        # initialize count as 0 and traverse through the all cells of given matrix\n",
    "        count = 0\n",
    "        for i in range(self.row):\n",
    "            for j in range(self.col):\n",
    "            # if a cell with value 1 is not visited yet, then new island found\n",
    "                if visited[i][j] == False and self.graph[i][j] == 1:\n",
    "                    # visit all cells in this island and increment island count\n",
    "                    self.dfs(i, j, visited)\n",
    "                    count += 1\n",
    "        return count\n",
    "graph = [[1,1,0,0,0],\n",
    "        [0,1,0,0,1],\n",
    "        [1,0,0,1,1],\n",
    "        [0,0,0,0,0],\n",
    "        [1,0,1,0,1]]\n",
    "row=len(graph)\n",
    "col=len(graph[0])\n",
    "g=Graph(row, col, graph)\n",
    "print('Number of island is:')\n",
    "print(g.countislands())\n",
    "en = timeit.default_timer()\n",
    "ex = en -  st\n",
    "print(f'Execution time: {ex}')            \n",
    "    "
   ]
  },
  {
   "cell_type": "code",
   "execution_count": 12,
   "metadata": {},
   "outputs": [
    {
     "name": "stdout",
     "output_type": "stream",
     "text": [
      "Number of island is:\n",
      "5\n",
      "Execution time: 0.0011400919975130819\n"
     ]
    }
   ],
   "source": [
    "import timeit\n",
    "st = timeit.default_timer()\n",
    "class Graph:\n",
    "    \n",
    "    def __init__(self, row, col, graph):\n",
    "        self.row = row\n",
    "        self.col = col\n",
    "        self.graph = graph\n",
    "        # a utility function to do DFS for a 2D boolean matrix. It only considers\n",
    "        # the 8 neighbors as adjacent vertices\n",
    "    def dfs(self, i, j):\n",
    "        if i < 0 or i >= len(self.graph) or j < 0 or j >= len(self.graph[0]) or self.graph[i][j] != 1:\n",
    "            return\n",
    "        # mark it as visited\n",
    "        self.graph[i][j] = -1\n",
    "        # recur for 8 neighbors\n",
    "        self.dfs(i - 1, j - 1)\n",
    "        self.dfs(i - 1, j)\n",
    "        self.dfs(i - 1, j + 1)\n",
    "        self.dfs(i, j-1)\n",
    "        self.dfs(i, j+1)\n",
    "        self.dfs(i+1,j-1)\n",
    "        self.dfs(i+1,j)\n",
    "        self.dfs(i+1,j+1)\n",
    "        # the main function that returns count of islands in a given boolean 2D matrix\n",
    "    def countislands(self):\n",
    "        # initialize the count as 0 and traverse through all the cells of given matrix\n",
    "        count = 0\n",
    "        for i in range(self.row):\n",
    "            for j in range(self.col):\n",
    "                # if a cell with value 1 is not visited yet, then new island found\n",
    "                if self.graph[i][j] == 1:\n",
    "                    # visit all cells in this island and increment island count\n",
    "                    self.dfs(i,j)\n",
    "                    count += 1\n",
    "        return count\n",
    "\n",
    "graph = [[1,1,0,0,0],\n",
    "        [0,1,0,0,1],\n",
    "        [1,0,0,1,1],\n",
    "        [0,0,0,0,0],\n",
    "        [1,0,1,0,1]]\n",
    "row=len(graph)\n",
    "col=len(graph[0])\n",
    "g=Graph(row, col, graph)\n",
    "print('Number of island is:')\n",
    "print(g.countislands())\n",
    "en = timeit.default_timer()\n",
    "ex = en -  st\n",
    "print(f'Execution time: {ex}')"
   ]
  },
  {
   "cell_type": "markdown",
   "metadata": {},
   "source": [
    "# Recursive Staircase problem"
   ]
  },
  {
   "cell_type": "code",
   "execution_count": 18,
   "metadata": {},
   "outputs": [
    {
     "name": "stdout",
     "output_type": "stream",
     "text": [
      "13\n",
      "Execution time: 0.00025983600062318146\n"
     ]
    }
   ],
   "source": [
    "import timeit\n",
    "st = timeit.default_timer()\n",
    "def findstep(n):\n",
    "    if (n == 0):\n",
    "        return 1\n",
    "    elif (n < 0):\n",
    "        return 0\n",
    "    else:\n",
    "        return findstep(n-3)+findstep(n-2)+findstep(n-1)\n",
    "# driver code\n",
    "n = 5\n",
    "print(findstep(n))\n",
    "en = timeit.default_timer()\n",
    "ex = en -  st\n",
    "print(f'Execution time: {ex}')"
   ]
  },
  {
   "cell_type": "markdown",
   "metadata": {},
   "source": [
    "## Dynamic programing"
   ]
  },
  {
   "cell_type": "code",
   "execution_count": 26,
   "metadata": {},
   "outputs": [
    {
     "name": "stdout",
     "output_type": "stream",
     "text": [
      "0\n",
      "Execution time: 0.0003119259999948554\n"
     ]
    }
   ],
   "source": [
    "st = timeit.default_timer()\n",
    "def countways(n):\n",
    "    res = [0] * (n+2)\n",
    "    res[0] = 1\n",
    "    res[1] = 1\n",
    "    res[2] = 2 \n",
    "    for i in range(3, n+1):\n",
    "        res[i] = res[i - 1] + res[i - 2] + res[i - 3]\n",
    "        return res[n]\n",
    "# driver code\n",
    "n = 50\n",
    "print(countways(n))\n",
    "en = timeit.default_timer()\n",
    "ex = en -  st\n",
    "print(f'Execution time: {ex}')"
   ]
  },
  {
   "cell_type": "code",
   "execution_count": 21,
   "metadata": {},
   "outputs": [
    {
     "name": "stdout",
     "output_type": "stream",
     "text": [
      "10562230626642\n",
      "Execution time: 0.0006338699968182482\n"
     ]
    }
   ],
   "source": [
    "# Python program to find n-th stair\n",
    "# using step size 1 or 2 or 3.\n",
    "\n",
    "# A recursive function used by countWays\n",
    "\n",
    "st = timeit.default_timer()\n",
    "def countWays(n):\n",
    "\tres = [0] * (n + 2)\n",
    "\tres[0] = 1\n",
    "\tres[1] = 1\n",
    "\tres[2] = 2\n",
    "\n",
    "\tfor i in range(3, n + 1):\n",
    "\t\tres[i] = res[i - 1] + res[i - 2] + res[i - 3]\n",
    "\n",
    "\treturn res[n]\n",
    "\n",
    "\n",
    "# Driver code\n",
    "n = 50\n",
    "print(countWays(n))\n",
    "en = timeit.default_timer()\n",
    "ex = en -  st\n",
    "print(f'Execution time: {ex}')\n",
    "\n",
    "# This code is contributed by Nikita Tiwari.\n"
   ]
  },
  {
   "cell_type": "code",
   "execution_count": 19,
   "metadata": {},
   "outputs": [
    {
     "name": "stdout",
     "output_type": "stream",
     "text": [
      "10562230626642\n",
      "Execution time: 0.0002938530014944263\n"
     ]
    }
   ],
   "source": [
    "# A Python program to count number of ways\n",
    "# to reach nth stair when\n",
    "# A recursive function used by countWays\n",
    "st = timeit.default_timer()\n",
    "def countWays(n):\n",
    "\n",
    "\t# declaring three variables\n",
    "\t# and holding the ways\n",
    "\t# for first three stairs\n",
    "\ta = 1\n",
    "\tb = 2\n",
    "\tc = 4\n",
    "\n",
    "\td = 0 # fourth variable\n",
    "\tif (n == 0 or n == 1 or n == 2):\n",
    "\t\treturn n\n",
    "\tif (n == 3):\n",
    "\t\treturn c\n",
    "\t\t\n",
    "\tfor i in range(4,n+1):\n",
    "\t\n",
    "\t\t# starting from 4 as\n",
    "\t\td = c + b + a # already counted for 3 stairs\n",
    "\t\ta = b\n",
    "\t\tb = c\n",
    "\t\tc = d\n",
    "\treturn d\n",
    "\n",
    "\n",
    "# Driver program to test above functions\n",
    "n = 50\n",
    "print(countWays(n))\n",
    "en = timeit.default_timer()\n",
    "ex = en -  st\n",
    "print(f'Execution time: {ex}')\n",
    "\n",
    "# This code is contributed by shivanisinghss2110\n",
    "\n"
   ]
  },
  {
   "cell_type": "code",
   "execution_count": 20,
   "metadata": {},
   "outputs": [
    {
     "name": "stdout",
     "output_type": "stream",
     "text": [
      "10562230626642\n",
      "Execution time: 0.0011260590035817586\n"
     ]
    }
   ],
   "source": [
    "st = timeit.default_timer()\n",
    "k = 3\n",
    "\n",
    "# Multiply Two Matrix Function\n",
    "\n",
    "\n",
    "def multiply(A, B):\n",
    "\n",
    "\t# third matrix to store multiplication of Two matrix9*\n",
    "\tC = [[0 for x in range(k+1)] for y in range(k+1)]\n",
    "\n",
    "\tfor i in range(1, k+1):\n",
    "\t\tfor j in range(1, k+1):\n",
    "\t\t\tfor x in range(1, k+1):\n",
    "\t\t\t\tC[i][j] = (C[i][j] + (A[i][x] * B[x][j]))\n",
    "\n",
    "\treturn C\n",
    "\n",
    "# Optimal Way For finding pow(t,n)\n",
    "# If n Is Odd then It Will be t*pow(t,n-1)\n",
    "# else return pow(t,n/2)*pow(t,n/2)\n",
    "\n",
    "\n",
    "def pow(t, n):\n",
    "\t# base Case\n",
    "\tif (n == 1):\n",
    "\t\treturn t\n",
    "\t# Recurrence Case\n",
    "\tif (n & 1):\n",
    "\t\treturn multiply(t, pow(t, n - 1))\n",
    "\telse:\n",
    "\t\tX = pow(t, n // 2)\n",
    "\treturn multiply(X, X)\n",
    "\n",
    "\n",
    "def compute(n):\n",
    "\t# base Case\n",
    "\tif (n == 0):\n",
    "\t\treturn 1\n",
    "\tif (n == 1):\n",
    "\t\treturn 1\n",
    "\tif (n == 2):\n",
    "\t\treturn 2\n",
    "\n",
    "\t# Function Vector(indexing 1 )\n",
    "\t# that is [1,2]\n",
    "\tf1 = [0]*(k + 1)\n",
    "\tf1[1] = 1\n",
    "\tf1[2] = 2\n",
    "\tf1[3] = 4\n",
    "\n",
    "\t# Constructing Transformation Matrix that will be\n",
    "\t# [[0,1,0],[0,0,1],[3,2,1]]\n",
    "\n",
    "\tt = [[0 for x in range(k+1)] for y in range(k+1)]\n",
    "\tfor i in range(1, k+1):\n",
    "\t\tfor j in range(1, k+1):\n",
    "\t\t\tif (i < k):\n",
    "\t\t\t\t# Store 1 in cell that is next to diagonal of Matrix else Store 0 in\n",
    "\t\t\t\t# cell\n",
    "\t\t\t\tif (j == i + 1):\n",
    "\t\t\t\t\tt[i][j] = 1\n",
    "\t\t\t\telse:\n",
    "\t\t\t\t\tt[i][j] = 0\n",
    "\t\t\t\tcontinue\n",
    "\t\t\t# Last Row - store the Coefficients in reverse order\n",
    "\t\t\tt[i][j] = 1\n",
    "\n",
    "\t# Computing T^(n-1) and Setting Transformation matrix T to T^(n-1)\n",
    "\tt = pow(t, n - 1)\n",
    "\tsum = 0\n",
    "\t# Computing first cell (row=1,col=1) For Resultant Matrix TXF\n",
    "\tfor i in range(1, k+1):\n",
    "\t\tsum += t[1][i] * f1[i]\n",
    "\treturn sum\n",
    "\n",
    "\n",
    "# Driver Code\n",
    "n = 50\n",
    "print(compute(n))\n",
    "\n",
    "en = timeit.default_timer()\n",
    "ex = en -  st\n",
    "print(f'Execution time: {ex}')\n",
    "\n",
    "# This code is contributed by Shubhamsingh10\n"
   ]
  },
  {
   "cell_type": "markdown",
   "metadata": {},
   "source": [
    "# Quicksort"
   ]
  },
  {
   "cell_type": "code",
   "execution_count": 28,
   "metadata": {},
   "outputs": [
    {
     "name": "stdout",
     "output_type": "stream",
     "text": [
      "Original Array:  [4, 2, 7, 3, 1, 6]\n"
     ]
    },
    {
     "ename": "TypeError",
     "evalue": "can only concatenate list (not \"int\") to list",
     "output_type": "error",
     "traceback": [
      "\u001b[0;31m---------------------------------------------------------------------------\u001b[0m",
      "\u001b[0;31mTypeError\u001b[0m                                 Traceback (most recent call last)",
      "\u001b[0;32m<ipython-input-28-f26f55e19569>\u001b[0m in \u001b[0;36m<module>\u001b[0;34m\u001b[0m\n\u001b[1;32m     23\u001b[0m \u001b[0marray_to_be_sorted\u001b[0m \u001b[0;34m=\u001b[0m \u001b[0;34m[\u001b[0m\u001b[0;36m4\u001b[0m\u001b[0;34m,\u001b[0m\u001b[0;36m2\u001b[0m\u001b[0;34m,\u001b[0m\u001b[0;36m7\u001b[0m\u001b[0;34m,\u001b[0m\u001b[0;36m3\u001b[0m\u001b[0;34m,\u001b[0m\u001b[0;36m1\u001b[0m\u001b[0;34m,\u001b[0m\u001b[0;36m6\u001b[0m\u001b[0;34m]\u001b[0m\u001b[0;34m\u001b[0m\u001b[0;34m\u001b[0m\u001b[0m\n\u001b[1;32m     24\u001b[0m \u001b[0mprint\u001b[0m\u001b[0;34m(\u001b[0m\u001b[0;34m\"Original Array: \"\u001b[0m\u001b[0;34m,\u001b[0m\u001b[0marray_to_be_sorted\u001b[0m\u001b[0;34m)\u001b[0m\u001b[0;34m\u001b[0m\u001b[0;34m\u001b[0m\u001b[0m\n\u001b[0;32m---> 25\u001b[0;31m \u001b[0mprint\u001b[0m\u001b[0;34m(\u001b[0m\u001b[0;34m\"Sorted Array: \"\u001b[0m\u001b[0;34m,\u001b[0m\u001b[0mquicksort\u001b[0m\u001b[0;34m(\u001b[0m\u001b[0marray_to_be_sorted\u001b[0m\u001b[0;34m)\u001b[0m\u001b[0;34m)\u001b[0m\u001b[0;34m\u001b[0m\u001b[0;34m\u001b[0m\u001b[0m\n\u001b[0m\u001b[1;32m     26\u001b[0m \u001b[0men\u001b[0m \u001b[0;34m=\u001b[0m \u001b[0mtimeit\u001b[0m\u001b[0;34m.\u001b[0m\u001b[0mdefault_timer\u001b[0m\u001b[0;34m(\u001b[0m\u001b[0;34m)\u001b[0m\u001b[0;34m\u001b[0m\u001b[0;34m\u001b[0m\u001b[0m\n\u001b[1;32m     27\u001b[0m \u001b[0mex\u001b[0m\u001b[0;34m=\u001b[0m \u001b[0men\u001b[0m \u001b[0;34m-\u001b[0m \u001b[0mst\u001b[0m\u001b[0;34m\u001b[0m\u001b[0;34m\u001b[0m\u001b[0m\n",
      "\u001b[0;32m<ipython-input-28-f26f55e19569>\u001b[0m in \u001b[0;36mquicksort\u001b[0;34m(arr)\u001b[0m\n\u001b[1;32m     15\u001b[0m     \u001b[0marr\u001b[0m\u001b[0;34m[\u001b[0m\u001b[0;36m0\u001b[0m\u001b[0;34m]\u001b[0m \u001b[0;34m=\u001b[0m \u001b[0marr\u001b[0m\u001b[0;34m[\u001b[0m\u001b[0mcurrent_position\u001b[0m\u001b[0;34m]\u001b[0m\u001b[0;34m\u001b[0m\u001b[0;34m\u001b[0m\u001b[0m\n\u001b[1;32m     16\u001b[0m     \u001b[0marr\u001b[0m\u001b[0;34m[\u001b[0m\u001b[0mcurrent_position\u001b[0m\u001b[0;34m]\u001b[0m \u001b[0;34m=\u001b[0m \u001b[0mtemp\u001b[0m \u001b[0;31m#Brings pivot to it's appropriate position\u001b[0m\u001b[0;34m\u001b[0m\u001b[0;34m\u001b[0m\u001b[0m\n\u001b[0;32m---> 17\u001b[0;31m     \u001b[0mleft\u001b[0m \u001b[0;34m=\u001b[0m \u001b[0mquicksort\u001b[0m\u001b[0;34m(\u001b[0m\u001b[0marr\u001b[0m\u001b[0;34m[\u001b[0m\u001b[0;36m0\u001b[0m\u001b[0;34m:\u001b[0m\u001b[0mcurrent_position\u001b[0m\u001b[0;34m]\u001b[0m\u001b[0;34m)\u001b[0m\u001b[0;34m\u001b[0m\u001b[0;34m\u001b[0m\u001b[0m\n\u001b[0m\u001b[1;32m     18\u001b[0m     \u001b[0mright\u001b[0m \u001b[0;34m=\u001b[0m \u001b[0mquicksort\u001b[0m\u001b[0;34m(\u001b[0m\u001b[0marr\u001b[0m\u001b[0;34m[\u001b[0m\u001b[0mcurrent_position\u001b[0m\u001b[0;34m+\u001b[0m\u001b[0;36m1\u001b[0m \u001b[0;34m:\u001b[0m \u001b[0melements\u001b[0m\u001b[0;34m]\u001b[0m\u001b[0;34m)\u001b[0m\u001b[0;34m\u001b[0m\u001b[0;34m\u001b[0m\u001b[0m\n\u001b[1;32m     19\u001b[0m     \u001b[0marr\u001b[0m \u001b[0;34m=\u001b[0m\u001b[0mleft\u001b[0m \u001b[0;34m+\u001b[0m \u001b[0marr\u001b[0m\u001b[0;34m[\u001b[0m\u001b[0mcurrent_position\u001b[0m\u001b[0;34m]\u001b[0m \u001b[0;34m+\u001b[0m \u001b[0mright\u001b[0m\u001b[0;34m\u001b[0m\u001b[0;34m\u001b[0m\u001b[0m\n",
      "\u001b[0;32m<ipython-input-28-f26f55e19569>\u001b[0m in \u001b[0;36mquicksort\u001b[0;34m(arr)\u001b[0m\n\u001b[1;32m     16\u001b[0m     \u001b[0marr\u001b[0m\u001b[0;34m[\u001b[0m\u001b[0mcurrent_position\u001b[0m\u001b[0;34m]\u001b[0m \u001b[0;34m=\u001b[0m \u001b[0mtemp\u001b[0m \u001b[0;31m#Brings pivot to it's appropriate position\u001b[0m\u001b[0;34m\u001b[0m\u001b[0;34m\u001b[0m\u001b[0m\n\u001b[1;32m     17\u001b[0m     \u001b[0mleft\u001b[0m \u001b[0;34m=\u001b[0m \u001b[0mquicksort\u001b[0m\u001b[0;34m(\u001b[0m\u001b[0marr\u001b[0m\u001b[0;34m[\u001b[0m\u001b[0;36m0\u001b[0m\u001b[0;34m:\u001b[0m\u001b[0mcurrent_position\u001b[0m\u001b[0;34m]\u001b[0m\u001b[0;34m)\u001b[0m\u001b[0;34m\u001b[0m\u001b[0;34m\u001b[0m\u001b[0m\n\u001b[0;32m---> 18\u001b[0;31m     \u001b[0mright\u001b[0m \u001b[0;34m=\u001b[0m \u001b[0mquicksort\u001b[0m\u001b[0;34m(\u001b[0m\u001b[0marr\u001b[0m\u001b[0;34m[\u001b[0m\u001b[0mcurrent_position\u001b[0m\u001b[0;34m+\u001b[0m\u001b[0;36m1\u001b[0m \u001b[0;34m:\u001b[0m \u001b[0melements\u001b[0m\u001b[0;34m]\u001b[0m\u001b[0;34m)\u001b[0m\u001b[0;34m\u001b[0m\u001b[0;34m\u001b[0m\u001b[0m\n\u001b[0m\u001b[1;32m     19\u001b[0m     \u001b[0marr\u001b[0m \u001b[0;34m=\u001b[0m\u001b[0mleft\u001b[0m \u001b[0;34m+\u001b[0m \u001b[0marr\u001b[0m\u001b[0;34m[\u001b[0m\u001b[0mcurrent_position\u001b[0m\u001b[0;34m]\u001b[0m \u001b[0;34m+\u001b[0m \u001b[0mright\u001b[0m\u001b[0;34m\u001b[0m\u001b[0;34m\u001b[0m\u001b[0m\n\u001b[1;32m     20\u001b[0m     \u001b[0;32mreturn\u001b[0m \u001b[0marr\u001b[0m\u001b[0;34m\u001b[0m\u001b[0;34m\u001b[0m\u001b[0m\n",
      "\u001b[0;32m<ipython-input-28-f26f55e19569>\u001b[0m in \u001b[0;36mquicksort\u001b[0;34m(arr)\u001b[0m\n\u001b[1;32m     17\u001b[0m     \u001b[0mleft\u001b[0m \u001b[0;34m=\u001b[0m \u001b[0mquicksort\u001b[0m\u001b[0;34m(\u001b[0m\u001b[0marr\u001b[0m\u001b[0;34m[\u001b[0m\u001b[0;36m0\u001b[0m\u001b[0;34m:\u001b[0m\u001b[0mcurrent_position\u001b[0m\u001b[0;34m]\u001b[0m\u001b[0;34m)\u001b[0m\u001b[0;34m\u001b[0m\u001b[0;34m\u001b[0m\u001b[0m\n\u001b[1;32m     18\u001b[0m     \u001b[0mright\u001b[0m \u001b[0;34m=\u001b[0m \u001b[0mquicksort\u001b[0m\u001b[0;34m(\u001b[0m\u001b[0marr\u001b[0m\u001b[0;34m[\u001b[0m\u001b[0mcurrent_position\u001b[0m\u001b[0;34m+\u001b[0m\u001b[0;36m1\u001b[0m \u001b[0;34m:\u001b[0m \u001b[0melements\u001b[0m\u001b[0;34m]\u001b[0m\u001b[0;34m)\u001b[0m\u001b[0;34m\u001b[0m\u001b[0;34m\u001b[0m\u001b[0m\n\u001b[0;32m---> 19\u001b[0;31m     \u001b[0marr\u001b[0m \u001b[0;34m=\u001b[0m\u001b[0mleft\u001b[0m \u001b[0;34m+\u001b[0m \u001b[0marr\u001b[0m\u001b[0;34m[\u001b[0m\u001b[0mcurrent_position\u001b[0m\u001b[0;34m]\u001b[0m \u001b[0;34m+\u001b[0m \u001b[0mright\u001b[0m\u001b[0;34m\u001b[0m\u001b[0;34m\u001b[0m\u001b[0m\n\u001b[0m\u001b[1;32m     20\u001b[0m     \u001b[0;32mreturn\u001b[0m \u001b[0marr\u001b[0m\u001b[0;34m\u001b[0m\u001b[0;34m\u001b[0m\u001b[0m\n\u001b[1;32m     21\u001b[0m \u001b[0;34m\u001b[0m\u001b[0m\n",
      "\u001b[0;31mTypeError\u001b[0m: can only concatenate list (not \"int\") to list"
     ]
    }
   ],
   "source": [
    "st  = timeit.default_timer()\n",
    "def quicksort(arr):\n",
    "    elements = len(arr)\n",
    "    # Base case\n",
    "    if elements < 2:\n",
    "        return arr\n",
    "    current_position = 0\n",
    "    for i in range(1, elements):\n",
    "        if arr[i] <= arr[0]:\n",
    "            current_position += 1\n",
    "            temp = arr[i]\n",
    "            arr[i] = arr[current_position]\n",
    "            arr[current_position] = temp \n",
    "    temp = arr[0] \n",
    "    arr[0] = arr[current_position]\n",
    "    arr[current_position] = temp #Brings pivot to it's appropriate position\n",
    "    left = quicksort(arr[0:current_position])\n",
    "    right = quicksort(arr[current_position+1 : elements])\n",
    "    arr =left + arr[current_position] + right\n",
    "    return arr\n",
    "\n",
    "\n",
    "array_to_be_sorted = [4,2,7,3,1,6]\n",
    "print(\"Original Array: \",array_to_be_sorted)\n",
    "print(\"Sorted Array: \",quicksort(array_to_be_sorted))\n",
    "en = timeit.default_timer()\n",
    "ex= en - st\n",
    "print(f'Program Time: {ex} seconds')\n",
    "    \n",
    "            \n",
    "    \n",
    "    "
   ]
  },
  {
   "cell_type": "code",
   "execution_count": 29,
   "metadata": {},
   "outputs": [
    {
     "name": "stdout",
     "output_type": "stream",
     "text": [
      "Original Array:  [4, 2, 7, 3, 1, 6]\n",
      "Sorted Array:  [1, 2, 3, 4, 6, 7]\n",
      "Program Time: 0.0005097129978821613 seconds\n"
     ]
    }
   ],
   "source": [
    "import timeit\n",
    "start= timeit.default_timer()\n",
    "def QuickSort(arr):\n",
    "\n",
    "    elements = len(arr)\n",
    "    \n",
    "    #Base case\n",
    "    if elements < 2:\n",
    "        return arr\n",
    "    \n",
    "    current_position = 0 #Position of the partitioning element\n",
    "\n",
    "    for i in range(1, elements): #Partitioning loop\n",
    "         if arr[i] <= arr[0]:\n",
    "              current_position += 1\n",
    "              temp = arr[i]\n",
    "              arr[i] = arr[current_position]\n",
    "              arr[current_position] = temp\n",
    "\n",
    "    temp = arr[0]\n",
    "    arr[0] = arr[current_position] \n",
    "    arr[current_position] = temp #Brings pivot to it's appropriate position\n",
    "    \n",
    "    left = QuickSort(arr[0:current_position]) #Sorts the elements to the left of pivot\n",
    "    right = QuickSort(arr[current_position+1:elements]) #sorts the elements to the right of pivot\n",
    "\n",
    "    arr = left + [arr[current_position]] + right #Merging everything together\n",
    "    \n",
    "    return arr\n",
    "\n",
    "\n",
    "\n",
    "array_to_be_sorted = [4,2,7,3,1,6]\n",
    "print(\"Original Array: \",array_to_be_sorted)\n",
    "print(\"Sorted Array: \",QuickSort(array_to_be_sorted))\n",
    "stop = timeit.default_timer()\n",
    "execution_time = stop - start\n",
    "print(f'Program Time: {execution_time} seconds')"
   ]
  },
  {
   "cell_type": "markdown",
   "metadata": {},
   "source": [
    "# Merge Sort"
   ]
  },
  {
   "cell_type": "code",
   "execution_count": 31,
   "metadata": {},
   "outputs": [
    {
     "name": "stdout",
     "output_type": "stream",
     "text": [
      "Original Array:  [4, 2, 7, 3, 1, 6]\n",
      "Sorted Array:  [1, 2, 3, 4, 6, 6]\n",
      "Program Time: 0.000538440996024292 seconds\n"
     ]
    }
   ],
   "source": [
    "st = timeit.default_timer()\n",
    "def mergesort(arr):\n",
    "    if len(arr) > 1:\n",
    "        mid = len(arr)//2\n",
    "        l =arr[:mid]\n",
    "        r = arr[mid:]\n",
    "        mergesort(l)\n",
    "        mergesort(r)\n",
    "        i = j = k =0\n",
    "        while i < len(l) and j < len(r):\n",
    "            if l[i] < r[j]:\n",
    "                arr[k] = l[i]\n",
    "                i += 1\n",
    "            else:\n",
    "                arr[k] = r[j]\n",
    "                j += 1\n",
    "            k += 1\n",
    "        # checking if any elements is left\n",
    "        while i < len(l):\n",
    "            i += 1\n",
    "            k += 1\n",
    "        while j < len(r):\n",
    "            j += 1\n",
    "            k += 1\n",
    "        return arr\n",
    "array_to_be_sorted = [4,2,7,3,1,6]\n",
    "print(\"Original Array: \",array_to_be_sorted)\n",
    "print(\"Sorted Array: \",mergesort(array_to_be_sorted))\n",
    "en = timeit.default_timer()\n",
    "ex= en - st\n",
    "print(f'Program Time: {ex} seconds')\n",
    "            \n",
    "            "
   ]
  },
  {
   "cell_type": "markdown",
   "metadata": {},
   "source": [
    "# Bubble Sort"
   ]
  },
  {
   "cell_type": "code",
   "execution_count": 32,
   "metadata": {},
   "outputs": [
    {
     "name": "stdout",
     "output_type": "stream",
     "text": [
      "The array:\n",
      "[2, 1, 7, 6, 5, 3, 0, 9]\n",
      "The array after sorting in Ascending Order by Bubble sort is:\n",
      "[0, 1, 2, 3, 5, 6, 7, 9]\n",
      "Program Time: 0.0005929630060563795 seconds\n"
     ]
    }
   ],
   "source": [
    "st = timeit.default_timer()\n",
    "def bubblesort(arr):\n",
    "    for i in range(len(arr)-1):\n",
    "        for j in range(len(arr)-i-1):\n",
    "            if arr[j]> arr[j+1]:\n",
    "                arr[j], arr[j+1] = arr[j+1], arr[j]\n",
    "    return arr\n",
    "clist = [2, 1, 7, 6 , 5, 3, 0, 9]\n",
    "print(\"The array:\")\n",
    "print(clist)\n",
    "bubblesort(clist)\n",
    "print('The array after sorting in Ascending Order by Bubble sort is:')\n",
    "print(clist)\n",
    "en = timeit.default_timer()\n",
    "ex = en - st\n",
    "print(f'Program Time: {ex} seconds')"
   ]
  },
  {
   "cell_type": "code",
   "execution_count": null,
   "metadata": {},
   "outputs": [],
   "source": []
  }
 ],
 "metadata": {
  "kernelspec": {
   "display_name": "Python 3",
   "language": "python",
   "name": "python3"
  },
  "language_info": {
   "codemirror_mode": {
    "name": "ipython",
    "version": 3
   },
   "file_extension": ".py",
   "mimetype": "text/x-python",
   "name": "python",
   "nbconvert_exporter": "python",
   "pygments_lexer": "ipython3",
   "version": "3.8.3"
  }
 },
 "nbformat": 4,
 "nbformat_minor": 4
}
