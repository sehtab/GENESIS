{
 "cells": [
  {
   "cell_type": "markdown",
   "metadata": {},
   "source": [
    "# Selection Sort"
   ]
  },
  {
   "cell_type": "code",
   "execution_count": 1,
   "metadata": {},
   "outputs": [
    {
     "name": "stdout",
     "output_type": "stream",
     "text": [
      "[0, 2, 2, 3, 5, 6, 7, 9, 10]\n"
     ]
    }
   ],
   "source": [
    "def selectionsort(customlist):\n",
    "    for i in range(len(customlist)-1):\n",
    "        min_index = i\n",
    "        for j in range(i+1, len(customlist)):\n",
    "            if customlist[min_index] > customlist[j]:\n",
    "                min_index = j\n",
    "        customlist[i], customlist[min_index] = customlist[min_index], customlist[i]\n",
    "    print(customlist)\n",
    "clist = [2, 7, 5, 3, 9,0,2,10,6]\n",
    "selectionsort(clist)"
   ]
  },
  {
   "cell_type": "markdown",
   "metadata": {},
   "source": [
    "## Time complexity: O(n^2), Space Complexity: O(1)"
   ]
  },
  {
   "cell_type": "code",
   "execution_count": 1,
   "metadata": {},
   "outputs": [
    {
     "name": "stdout",
     "output_type": "stream",
     "text": [
      "The array after sorting in Ascending Order by selection sort is:\n",
      "[-202, -97, -9, -2, 0, 11, 45, 88, 747]\n",
      "Program Time: 0.00042508299975452246 seconds\n"
     ]
    }
   ],
   "source": [
    "import timeit\n",
    "start= timeit.default_timer()\n",
    "\n",
    "def selectionSort(array, size):\n",
    "    \n",
    "    for ind in range(size):\n",
    "        min_index = ind\n",
    " \n",
    "        for j in range(ind + 1, size):\n",
    "            # select the minimum element in every iteration\n",
    "            if array[j] < array[min_index]:\n",
    "                min_index = j\n",
    "         # swapping the elements to sort the array\n",
    "        (array[ind], array[min_index]) = (array[min_index], array[ind])\n",
    " \n",
    "arr = [-2, 45, 0, 11, -9,88,-97,-202,747]\n",
    "size = len(arr)\n",
    "selectionSort(arr, size)\n",
    "print('The array after sorting in Ascending Order by selection sort is:')\n",
    "print(arr)\n",
    "stop = timeit.default_timer()\n",
    "execution_time = stop - start\n",
    "print(f'Program Time: {execution_time} seconds')"
   ]
  },
  {
   "cell_type": "code",
   "execution_count": 5,
   "metadata": {},
   "outputs": [
    {
     "name": "stdout",
     "output_type": "stream",
     "text": [
      "The array:\n",
      "[-2, 45, 0, 11, -9, 88, -97, -202, 747]\n",
      "The array after sorting in Ascending Order by selection sort is:\n",
      "[-202, -97, -9, -2, 11, 0, 45, 88, 747]\n",
      "Program Time: 0.0006713529983244371 seconds\n"
     ]
    }
   ],
   "source": [
    "import timeit\n",
    "start = timeit.default_timer()\n",
    "\n",
    "def selectionsort(arr):\n",
    "    for i in range(len(arr)):\n",
    "        min = i\n",
    "        for j in range(i+1, len(arr)):\n",
    "            # select the min in every iteration\n",
    "            if arr[j] < arr[min]:\n",
    "                min = j\n",
    "                # swapping the elements to sort the array\n",
    "                (arr[i], arr[min]) = (arr[min], arr[i])\n",
    "arr = [-2, 45, 0, 11, -9,88,-97,-202,747]\n",
    "size = len(arr)\n",
    "print(\"The array:\")\n",
    "print(arr)\n",
    "selectionsort(arr)\n",
    "print('The array after sorting in Ascending Order by selection sort is:')\n",
    "print(arr)\n",
    "stop = timeit.default_timer()\n",
    "execution_time = stop - start\n",
    "print(f'Program Time: {execution_time} seconds')"
   ]
  },
  {
   "cell_type": "code",
   "execution_count": null,
   "metadata": {},
   "outputs": [],
   "source": []
  }
 ],
 "metadata": {
  "kernelspec": {
   "display_name": "Python 3",
   "language": "python",
   "name": "python3"
  },
  "language_info": {
   "codemirror_mode": {
    "name": "ipython",
    "version": 3
   },
   "file_extension": ".py",
   "mimetype": "text/x-python",
   "name": "python",
   "nbconvert_exporter": "python",
   "pygments_lexer": "ipython3",
   "version": "3.8.3"
  }
 },
 "nbformat": 4,
 "nbformat_minor": 4
}
