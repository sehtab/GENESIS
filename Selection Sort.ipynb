{
 "cells": [
  {
   "cell_type": "markdown",
   "metadata": {},
   "source": [
    "# Selection Sort"
   ]
  },
  {
   "cell_type": "code",
   "execution_count": 1,
   "metadata": {},
   "outputs": [
    {
     "name": "stdout",
     "output_type": "stream",
     "text": [
      "[0, 2, 2, 3, 5, 6, 7, 9, 10]\n"
     ]
    }
   ],
   "source": [
    "def selectionsort(customlist):\n",
    "    for i in range(len(customlist)-1):\n",
    "        min_index = i\n",
    "        for j in range(i+1, len(customlist)):\n",
    "            if customlist[min_index] > customlist[j]:\n",
    "                min_index = j\n",
    "        customlist[i], customlist[min_index] = customlist[min_index], customlist[i]\n",
    "    print(customlist)\n",
    "clist = [2, 7, 5, 3, 9,0,2,10,6]\n",
    "selectionsort(clist)"
   ]
  },
  {
   "cell_type": "markdown",
   "metadata": {},
   "source": [
    "## Time complexity: O(n^2), Space Complexity: O(1)"
   ]
  },
  {
   "cell_type": "code",
   "execution_count": null,
   "metadata": {},
   "outputs": [],
   "source": []
  }
 ],
 "metadata": {
  "kernelspec": {
   "display_name": "Python 3",
   "language": "python",
   "name": "python3"
  },
  "language_info": {
   "codemirror_mode": {
    "name": "ipython",
    "version": 3
   },
   "file_extension": ".py",
   "mimetype": "text/x-python",
   "name": "python",
   "nbconvert_exporter": "python",
   "pygments_lexer": "ipython3",
   "version": "3.8.3"
  }
 },
 "nbformat": 4,
 "nbformat_minor": 4
}
