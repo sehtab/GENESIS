{
 "cells": [
  {
   "cell_type": "code",
   "execution_count": 2,
   "metadata": {},
   "outputs": [
    {
     "name": "stdout",
     "output_type": "stream",
     "text": [
      "11\n",
      "13\n",
      "None\n"
     ]
    }
   ],
   "source": [
    "class hashmap:\n",
    "    def __init__(self):\n",
    "        self.store = [None for _ in range(16)]\n",
    "        self.size = 0\n",
    "    def get(self,key):\n",
    "        key_hash = self._hash(key)\n",
    "        index = self._position(key_hash)\n",
    "        if not self.store[index]:\n",
    "            return None\n",
    "        else:\n",
    "            list_at_index = self.store[index]\n",
    "            for i in list_at_index:\n",
    "                if i.key == key:\n",
    "                    return i.value\n",
    "            return None\n",
    "    def put(self,key,value):\n",
    "        p = node(key,value)\n",
    "        key_hash = self._hash(key)\n",
    "        index = self._position(key_hash)\n",
    "        if not self.store[index]:\n",
    "            self.store[index] = [p]\n",
    "            self.size += 1\n",
    "        else:\n",
    "            list_at_index = self.store[index]\n",
    "            if p not in list_at_index:\n",
    "                list_at_index.append(p)\n",
    "                self.size += 1\n",
    "            else:\n",
    "                for i in list_at_index:\n",
    "                    if i == p:\n",
    "                        i.value = value\n",
    "                        break\n",
    "    def __len__(self):\n",
    "        return self.size\n",
    "    def _hash(self,key):\n",
    "        if isinstance(key,int):\n",
    "            return key\n",
    "        result = 5381\n",
    "        for char in key:\n",
    "            result = 33*result + ord(char)\n",
    "            return result\n",
    "    def _position(self, key_hash):\n",
    "        return key_hash % 15\n",
    "class node:\n",
    "    def __init__(self,key,value):\n",
    "        self.key = key\n",
    "        self.value = value\n",
    "    def __eq__(self,other):\n",
    "        return self.key == other.key\n",
    "if __name__ == '__main__':\n",
    "    hp = hashmap()\n",
    "    hp.put(2,12)\n",
    "    hp.put('asd',13)\n",
    "    hp.put(2,11)\n",
    "    print(hp.get(2))\n",
    "    print(hp.get('asd'))\n",
    "    print(hp.get('ade'))\n",
    "           "
   ]
  },
  {
   "cell_type": "code",
   "execution_count": 1,
   "metadata": {},
   "outputs": [
    {
     "name": "stdout",
     "output_type": "stream",
     "text": [
      "16\n",
      "6\n"
     ]
    }
   ],
   "source": [
    "def mod(number, cellNumber):\n",
    "    return number % cellNumber\n",
    "\n",
    "\n",
    "print(mod(400, 24))\n",
    "\n",
    "\n",
    "def modASCII(string, cellNumber):\n",
    "    total = 0\n",
    "    for i in string:\n",
    "        total += ord(i)\n",
    "    return total % cellNumber\n",
    "\n",
    "print(modASCII(\"ABC\", 24))"
   ]
  },
  {
   "cell_type": "code",
   "execution_count": null,
   "metadata": {},
   "outputs": [],
   "source": []
  }
 ],
 "metadata": {
  "kernelspec": {
   "display_name": "Python 3",
   "language": "python",
   "name": "python3"
  },
  "language_info": {
   "codemirror_mode": {
    "name": "ipython",
    "version": 3
   },
   "file_extension": ".py",
   "mimetype": "text/x-python",
   "name": "python",
   "nbconvert_exporter": "python",
   "pygments_lexer": "ipython3",
   "version": "3.8.3"
  }
 },
 "nbformat": 4,
 "nbformat_minor": 4
}
