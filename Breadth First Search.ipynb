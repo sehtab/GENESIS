{
 "cells": [
  {
   "cell_type": "code",
   "execution_count": 5,
   "metadata": {},
   "outputs": [
    {
     "name": "stdout",
     "output_type": "stream",
     "text": [
      "a\n",
      "b\n",
      "c\n",
      "d\n",
      "e\n",
      "f\n"
     ]
    }
   ],
   "source": [
    "class graph:\n",
    "    def __init__(self,gdict=None):\n",
    "        if gdict is None:\n",
    "            gdict = {}\n",
    "        self.gdict = gdict\n",
    "    def addedge(self,vertex,edge):\n",
    "        self.gdict[vertex].append(edge)\n",
    "    def bfs(self, vertex):\n",
    "        visited = [vertex]\n",
    "        queue = [vertex]\n",
    "        while queue:\n",
    "            devertex = queue.pop(0)\n",
    "            print(devertex)\n",
    "            for adjacentvertex in self.gdict[devertex]:\n",
    "                if adjacentvertex not in visited:\n",
    "                    visited.append(adjacentvertex)\n",
    "                    queue.append(adjacentvertex)\n",
    "                        \n",
    "cdic = {\"a\" : [\"b\",\"c\"],\n",
    "       'b': ['a','d','e'],\n",
    "       'c' : ['a','e'],\n",
    "       'd': ['b','e','f'],\n",
    "       'e': ['d','f','c'],\n",
    "       'f': ['d','e']}\n",
    "g = graph(cdic)\n",
    "g.bfs('a')\n"
   ]
  },
  {
   "cell_type": "markdown",
   "metadata": {},
   "source": [
    "# Time Complexity: O(V+E), Space Complexity: O(V+E)"
   ]
  },
  {
   "cell_type": "code",
   "execution_count": null,
   "metadata": {},
   "outputs": [],
   "source": []
  }
 ],
 "metadata": {
  "kernelspec": {
   "display_name": "Python 3",
   "language": "python",
   "name": "python3"
  },
  "language_info": {
   "codemirror_mode": {
    "name": "ipython",
    "version": 3
   },
   "file_extension": ".py",
   "mimetype": "text/x-python",
   "name": "python",
   "nbconvert_exporter": "python",
   "pygments_lexer": "ipython3",
   "version": "3.8.3"
  }
 },
 "nbformat": 4,
 "nbformat_minor": 4
}
