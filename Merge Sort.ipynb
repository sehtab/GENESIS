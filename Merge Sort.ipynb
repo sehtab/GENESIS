{
 "cells": [
  {
   "cell_type": "markdown",
   "metadata": {},
   "source": [
    "# Merge Sort"
   ]
  },
  {
   "cell_type": "code",
   "execution_count": 8,
   "metadata": {},
   "outputs": [
    {
     "name": "stdout",
     "output_type": "stream",
     "text": [
      "[0, 2, 3, 5, 5, 7, 8, 9, 10]\n"
     ]
    }
   ],
   "source": [
    "def merge(customlist,l,m,r):\n",
    "    n1 = m - l + 1\n",
    "    n2 = r - m\n",
    "    L = [0] * (n1)\n",
    "    R = [0] * (n2)\n",
    "    for i in range(0, n1):\n",
    "        L[i] = customlist[l+i]\n",
    "    for j in range(0, n2):\n",
    "        R[j] = customlist[m+1+j]\n",
    "    i = 0\n",
    "    j = 0\n",
    "    k = l\n",
    "    while i < n1 and j < n2:\n",
    "        if L[i] <= R[j]:\n",
    "            customlist[k] = L[i]\n",
    "            i += 1\n",
    "        else:\n",
    "            customlist[k] = R[j]\n",
    "            j += 1\n",
    "        k += 1\n",
    "    while i < n1:\n",
    "        customlist[k] = L[i]\n",
    "        i += 1\n",
    "        k += 1\n",
    "    while j < n2:\n",
    "        customlist[k] = R[j]\n",
    "        j += 1\n",
    "        k += 1\n",
    "def mergesort(customlist, l,r):\n",
    "    if l < r:\n",
    "        m = (l+(r-1))//2\n",
    "        mergesort(customlist, l,m)\n",
    "        mergesort(customlist, m+1, r)\n",
    "        merge(customlist, l,m,r)\n",
    "    return customlist\n",
    "clist = [7,2,9,5,0,3,8,10,5]\n",
    "print(mergesort(clist, 0, 8))\n",
    "\n",
    "        "
   ]
  },
  {
   "cell_type": "markdown",
   "metadata": {},
   "source": [
    "## Time complexity: O(nlogn), space complexity: O(n)"
   ]
  },
  {
   "cell_type": "code",
   "execution_count": null,
   "metadata": {},
   "outputs": [],
   "source": []
  }
 ],
 "metadata": {
  "kernelspec": {
   "display_name": "Python 3",
   "language": "python",
   "name": "python3"
  },
  "language_info": {
   "codemirror_mode": {
    "name": "ipython",
    "version": 3
   },
   "file_extension": ".py",
   "mimetype": "text/x-python",
   "name": "python",
   "nbconvert_exporter": "python",
   "pygments_lexer": "ipython3",
   "version": "3.8.3"
  }
 },
 "nbformat": 4,
 "nbformat_minor": 4
}
