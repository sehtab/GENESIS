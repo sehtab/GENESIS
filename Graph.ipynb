{
 "cells": [
  {
   "cell_type": "code",
   "execution_count": 3,
   "metadata": {},
   "outputs": [
    {
     "name": "stdout",
     "output_type": "stream",
     "text": [
      "{'a': ['b', 'c'], 'b': ['a', 'd', 'e'], 'c': ['a', 'e'], 'd': ['b', 'e', 'f'], 'e': ['d', 'f', 'c'], 'f': ['d', 'e']}\n",
      "{'a': ['b', 'c'], 'b': ['a', 'd', 'e'], 'c': ['a', 'e'], 'd': ['b', 'e', 'f'], 'e': ['d', 'f', 'c', 'c'], 'f': ['d', 'e']}\n",
      "['d', 'f', 'c', 'c']\n"
     ]
    }
   ],
   "source": [
    "class graph:\n",
    "    def __init__(self,gdict=None):\n",
    "        if gdict is None:\n",
    "            gdict = {}\n",
    "        self.gdict = gdict\n",
    "    def addedge(self,vertex,edge):\n",
    "        self.gdict[vertex].append(edge)\n",
    "cdic = {\"a\" : [\"b\",\"c\"],\n",
    "       'b': ['a','d','e'],\n",
    "       'c' : ['a','e'],\n",
    "       'd': ['b','e','f'],\n",
    "       'e': ['d','f','c'],\n",
    "       'f': ['d','e']}\n",
    "g = graph(cdic)\n",
    "print(g.gdict)\n",
    "g.addedge('e','c')\n",
    "print(g.gdict)\n",
    "print(g.gdict['e'])"
   ]
  },
  {
   "cell_type": "code",
   "execution_count": null,
   "metadata": {},
   "outputs": [],
   "source": []
  }
 ],
 "metadata": {
  "kernelspec": {
   "display_name": "Python 3",
   "language": "python",
   "name": "python3"
  },
  "language_info": {
   "codemirror_mode": {
    "name": "ipython",
    "version": 3
   },
   "file_extension": ".py",
   "mimetype": "text/x-python",
   "name": "python",
   "nbconvert_exporter": "python",
   "pygments_lexer": "ipython3",
   "version": "3.8.3"
  }
 },
 "nbformat": 4,
 "nbformat_minor": 4
}
