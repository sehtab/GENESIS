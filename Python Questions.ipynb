{
 "cells": [
  {
   "cell_type": "markdown",
   "metadata": {},
   "source": [
    "# 1. String Interpolation"
   ]
  },
  {
   "cell_type": "code",
   "execution_count": 3,
   "metadata": {},
   "outputs": [
    {
     "name": "stdout",
     "output_type": "stream",
     "text": [
      "Henlo, chris\n",
      "Hey, chris\n",
      "My name is chris\n"
     ]
    }
   ],
   "source": [
    "name = 'chris'\n",
    "print(f'Henlo, {name}') #  f string\n",
    "print('Hey, %s' % (name))    # % operator\n",
    "print('My name is {}'.format(name))    # format"
   ]
  },
  {
   "cell_type": "markdown",
   "metadata": {},
   "source": [
    "# 2. Difference between 'is' and '=='\n",
    "is checks identity and == checks equality"
   ]
  },
  {
   "cell_type": "code",
   "execution_count": 4,
   "metadata": {},
   "outputs": [
    {
     "name": "stdout",
     "output_type": "stream",
     "text": [
      "True\n",
      "True\n",
      "True\n",
      "False\n",
      "139890176113152\n",
      "139890176113152\n",
      "139890176111424\n"
     ]
    }
   ],
   "source": [
    "a = [1,2,3]\n",
    "b = a\n",
    "c = [1,2,3]\n",
    "print(a==b)\n",
    "print(a==c)\n",
    "print(a is b)\n",
    "print(a is c)\n",
    "print(id(a))\n",
    "print(id(b))\n",
    "print(id(c))"
   ]
  },
  {
   "cell_type": "markdown",
   "metadata": {},
   "source": [
    "# 3. Decorator\n",
    "A decorator allows adding functionality to an existing function by passing that existing function to a decorator, which executes the existing function as well as additional code,"
   ]
  },
  {
   "cell_type": "code",
   "execution_count": 9,
   "metadata": {},
   "outputs": [
    {
     "name": "stdout",
     "output_type": "stream",
     "text": [
      "chris\n",
      "naruto\n"
     ]
    }
   ],
   "source": [
    "def logging(func):\n",
    "    def log_function_called():\n",
    "        print(f'{func} called.')\n",
    "        func()\n",
    "    return log_function_called\n",
    "def my_name():\n",
    "    print('chris')\n",
    "def friends_name():\n",
    "    print('naruto')\n",
    "my_name()\n",
    "friends_name()"
   ]
  },
  {
   "cell_type": "code",
   "execution_count": 10,
   "metadata": {},
   "outputs": [
    {
     "name": "stdout",
     "output_type": "stream",
     "text": [
      "<function my_name at 0x7f3ab83b95e0> called.\n",
      "chris\n",
      "<function friends_name at 0x7f3ab83b93a0> called.\n",
      "naruto\n"
     ]
    }
   ],
   "source": [
    "@logging\n",
    "def my_name():\n",
    "    print('chris') \n",
    "@logging\n",
    "def friends_name():\n",
    "    print('naruto')\n",
    "my_name()\n",
    "friends_name()"
   ]
  },
  {
   "cell_type": "markdown",
   "metadata": {},
   "source": [
    "# 4. Range"
   ]
  },
  {
   "cell_type": "code",
   "execution_count": 20,
   "metadata": {},
   "outputs": [
    {
     "name": "stdout",
     "output_type": "stream",
     "text": [
      "0\n",
      "1\n",
      "2\n",
      "3\n",
      "4\n",
      "5\n",
      "6\n",
      "7\n",
      "8\n",
      "9\n",
      "\n",
      "2\n",
      "4\n",
      "6\n",
      "8\n",
      "\n",
      "More Pythonic way\n",
      "\n",
      "[2, 4, 6, 8]\n"
     ]
    }
   ],
   "source": [
    "c = range(10)\n",
    "for i in c:\n",
    "    print(i)\n",
    "c = range(2,10,2)\n",
    "print()\n",
    "for i in range(2,10,2):\n",
    "    print(i)\n",
    "print()\n",
    "print('More Pythonic way\\n')\n",
    "print(list(range(2,10,2)))"
   ]
  },
  {
   "cell_type": "markdown",
   "metadata": {},
   "source": [
    "# 5. Define a class\n",
    "2 attributes, create an instance and return speed"
   ]
  },
  {
   "cell_type": "code",
   "execution_count": 28,
   "metadata": {},
   "outputs": [
    {
     "name": "stdout",
     "output_type": "stream",
     "text": [
      "red\n"
     ]
    },
    {
     "data": {
      "text/plain": [
       "'100 mph'"
      ]
     },
     "execution_count": 28,
     "metadata": {},
     "output_type": "execute_result"
    }
   ],
   "source": [
    "class car:\n",
    "    def __init__(self, color, speed):\n",
    "        self.color = color\n",
    "        self.speed = speed\n",
    "kar = car('red', '100 mph')\n",
    "print(kar.color)\n",
    "kar.speed"
   ]
  },
  {
   "cell_type": "markdown",
   "metadata": {},
   "source": [
    "# 6. instance, static method, class method"
   ]
  },
  {
   "cell_type": "code",
   "execution_count": 36,
   "metadata": {},
   "outputs": [
    {
     "name": "stdout",
     "output_type": "stream",
     "text": [
      "Making espresso for $5\n",
      "None\n",
      "Its Sunny\n",
      "None\n",
      "Speciality changed to drip coffee\n",
      "None\n",
      "Making drip coffee for $5\n",
      "None\n"
     ]
    }
   ],
   "source": [
    "class coffeeshop:\n",
    "    speciality = 'espresso'\n",
    "    def __init__(self,coffee_price):\n",
    "        self.coffee_price = coffee_price\n",
    "    # instance method\n",
    "    def make_coffee(self):\n",
    "        print(f'Making {self.speciality} for ${self.coffee_price}')\n",
    "    # static method\n",
    "    @staticmethod\n",
    "    def check_weather():\n",
    "        print('Its Sunny')     \n",
    "    # class method\n",
    "    @classmethod\n",
    "    def change_speciality(cls, speciality):\n",
    "        cls.speciality = speciality\n",
    "        print(f'Speciality changed to {speciality}')\n",
    "coffee_shop = coffeeshop('5')\n",
    "print(coffee_shop.make_coffee())\n",
    "print(coffee_shop.check_weather())\n",
    "print(coffee_shop.change_speciality('drip coffee'))\n",
    "print(coffee_shop.make_coffee())"
   ]
  },
  {
   "cell_type": "markdown",
   "metadata": {},
   "source": [
    "# 7. difference between func and func()\n",
    "func is the object representing the function which can be assigned to a variable or to another function. func() define a function"
   ]
  },
  {
   "cell_type": "code",
   "execution_count": 39,
   "metadata": {},
   "outputs": [
    {
     "name": "stdout",
     "output_type": "stream",
     "text": [
      "<function func at 0x7f3ab835ea60>\n",
      "Im a function\n"
     ]
    }
   ],
   "source": [
    "def func():\n",
    "    print('Im a function')\n",
    "print(func)\n",
    "func()\n",
    "#function __main__.func>func()"
   ]
  },
  {
   "cell_type": "markdown",
   "metadata": {},
   "source": [
    "# 8. map\n",
    "returns a map object(iterator)"
   ]
  },
  {
   "cell_type": "code",
   "execution_count": 46,
   "metadata": {},
   "outputs": [
    {
     "name": "stdout",
     "output_type": "stream",
     "text": [
      "4\n",
      "5\n",
      "6\n"
     ]
    },
    {
     "data": {
      "text/plain": [
       "[4, 5, 6]"
      ]
     },
     "execution_count": 46,
     "metadata": {},
     "output_type": "execute_result"
    }
   ],
   "source": [
    "def add_three(x):\n",
    "    \n",
    "    return x+3\n",
    "l = [1,2,3]\n",
    "for i in map(add_three, l):\n",
    "    print(i)\n",
    "list(map(add_three, l))"
   ]
  },
  {
   "cell_type": "markdown",
   "metadata": {},
   "source": [
    "# 9. reduce function\n",
    "takes a function and a sequence and iterates over that sequence. on each iteration, both the current element and output from the previous element are passed to the function. In the end, sigle value is returned."
   ]
  },
  {
   "cell_type": "code",
   "execution_count": 47,
   "metadata": {},
   "outputs": [
    {
     "data": {
      "text/plain": [
       "6"
      ]
     },
     "execution_count": 47,
     "metadata": {},
     "output_type": "execute_result"
    }
   ],
   "source": [
    "from functools import reduce\n",
    "def add_3(x,y):\n",
    "    return x+y\n",
    "l =[1,2,3]\n",
    "reduce(add_3, l)"
   ]
  },
  {
   "cell_type": "markdown",
   "metadata": {},
   "source": [
    "# 10. filter function\n",
    "each element is passed to a function which is returned in the output sequenceif the function returns true and discard if it's false"
   ]
  },
  {
   "cell_type": "code",
   "execution_count": 49,
   "metadata": {},
   "outputs": [
    {
     "name": "stdout",
     "output_type": "stream",
     "text": [
      "2\n",
      "4\n"
     ]
    }
   ],
   "source": [
    "def add_3(x):\n",
    "    if x % 2 == 0:\n",
    "        return True\n",
    "    else: return False\n",
    "l = [1,2,3,4]\n",
    "for i in filter(add_3, l):\n",
    "    print(i)"
   ]
  },
  {
   "cell_type": "markdown",
   "metadata": {},
   "source": [
    "#  11. call by reference / call by value"
   ]
  },
  {
   "cell_type": "code",
   "execution_count": 54,
   "metadata": {},
   "outputs": [
    {
     "name": "stdout",
     "output_type": "stream",
     "text": [
      "139890230007728\n",
      "139890230007728\n",
      "139890222960304\n"
     ]
    }
   ],
   "source": [
    "name = 'text'\n",
    "str1 = name\n",
    "print(id(name))\n",
    "print(id(str1))\n",
    "str2 = 'texts'\n",
    "print(id(str2))"
   ]
  },
  {
   "cell_type": "markdown",
   "metadata": {},
   "source": [
    "# 12. reverse a list"
   ]
  },
  {
   "cell_type": "code",
   "execution_count": 67,
   "metadata": {},
   "outputs": [
    {
     "name": "stdout",
     "output_type": "stream",
     "text": [
      "['a', 'b', 'c']\n",
      "['c', 'b', 'a']\n",
      "[1, 2, 3]\n",
      "[3, 2, 1]\n",
      "['a', 'b', 'c']\n",
      "['c', 'b', 'a']\n",
      "[1, 2, 3]\n",
      "[3, 2, 1]\n"
     ]
    }
   ],
   "source": [
    "l = ['a','b','c']\n",
    "print(l)\n",
    "l.reverse()\n",
    "print(l)\n",
    "l1 = [1,2,3]\n",
    "l2 = l1[::-1]\n",
    "print(l1)\n",
    "print(l2)\n",
    "a = ['a','b','c']\n",
    "b = a[::-1]\n",
    "print(a)\n",
    "print(b)\n",
    "x = [1,2,3]\n",
    "print(x)\n",
    "x.reverse()\n",
    "print(x)"
   ]
  },
  {
   "cell_type": "markdown",
   "metadata": {},
   "source": [
    "# 13. string multiplication"
   ]
  },
  {
   "cell_type": "code",
   "execution_count": 64,
   "metadata": {},
   "outputs": [
    {
     "data": {
      "text/plain": [
       "'catcatcat'"
      ]
     },
     "execution_count": 64,
     "metadata": {},
     "output_type": "execute_result"
    }
   ],
   "source": [
    "'cat'*3"
   ]
  },
  {
   "cell_type": "markdown",
   "metadata": {},
   "source": [
    "# 14. list multiplication"
   ]
  },
  {
   "cell_type": "code",
   "execution_count": 65,
   "metadata": {},
   "outputs": [
    {
     "data": {
      "text/plain": [
       "[1, 2, 3, 1, 2, 3, 1, 2, 3]"
      ]
     },
     "execution_count": 65,
     "metadata": {},
     "output_type": "execute_result"
    }
   ],
   "source": [
    "[1,2,3]*3"
   ]
  },
  {
   "cell_type": "markdown",
   "metadata": {},
   "source": [
    "# 15.self refer to a class\n",
    "self refers to a instance of the class itself"
   ]
  },
  {
   "cell_type": "code",
   "execution_count": 70,
   "metadata": {},
   "outputs": [
    {
     "data": {
      "text/plain": [
       "'aqua'"
      ]
     },
     "execution_count": 70,
     "metadata": {},
     "output_type": "execute_result"
    }
   ],
   "source": [
    "class shirt:\n",
    "    def __init__(self,color):\n",
    "        self.color = color\n",
    "s = shirt('aqua')\n",
    "s.color"
   ]
  },
  {
   "cell_type": "markdown",
   "metadata": {},
   "source": [
    "# 16. concatenate  lists"
   ]
  },
  {
   "cell_type": "code",
   "execution_count": 73,
   "metadata": {},
   "outputs": [
    {
     "name": "stdout",
     "output_type": "stream",
     "text": [
      "[1, 2, 3, 4, 5]\n"
     ]
    },
    {
     "data": {
      "text/plain": [
       "['a', 'b', 'c']"
      ]
     },
     "execution_count": 73,
     "metadata": {},
     "output_type": "execute_result"
    }
   ],
   "source": [
    "a=[1,2]\n",
    "b=[3,4,5]\n",
    "print(a+b)\n",
    "x1=['a','b']\n",
    "x2=['c']\n",
    "x1+x2"
   ]
  },
  {
   "cell_type": "markdown",
   "metadata": {},
   "source": [
    "# 17.shallow / deep copy"
   ]
  },
  {
   "cell_type": "code",
   "execution_count": 102,
   "metadata": {},
   "outputs": [
    {
     "name": "stdout",
     "output_type": "stream",
     "text": [
      "[['a'], ['b']]\n",
      "None\n",
      "[['a'], ['b'], ['c']]\n",
      "[1, 2, 3]\n",
      "[1, 2, 3]\n",
      "[['a'], ['b'], ['c']]\n",
      "[['a'], ['b']]\n",
      "[1, 2, 3]\n",
      "[1, 2, 3]\n",
      "[1, 2, 3]\n",
      "[[7], 2, 3]\n",
      "[1, 2, 3]\n"
     ]
    }
   ],
   "source": [
    "# reference the original object\n",
    "l1 = [['a'],['b']]\n",
    "print(l1)\n",
    "l2 = l1.append(['c'])\n",
    "l2 = [['a']].append(['b'])\n",
    "print(l2)\n",
    "print(l1)\n",
    "a1 = [1,2]\n",
    "a2 = a1.append(3)\n",
    "a2=a1\n",
    "print(a2)\n",
    "print(a1)\n",
    "\n",
    "# create a shallow copy\n",
    "a3 = [['a'],['b']]\n",
    "a4 = list(a3)\n",
    "a3.append(['c'])\n",
    "print(a3)\n",
    "print(a4)\n",
    "\n",
    "# create a deep copy\n",
    "import copy\n",
    "l5 = [1,2,3]\n",
    "print(l5)\n",
    "l6 = copy.deepcopy(l5)\n",
    "#l5 = l5.append([4])\n",
    "print(l5)\n",
    "print(l6)\n",
    "l5[0] = [7]\n",
    "print(l5)\n",
    "print(l6)"
   ]
  },
  {
   "cell_type": "markdown",
   "metadata": {},
   "source": [
    "# 18.concatenate 2 arrays"
   ]
  },
  {
   "cell_type": "code",
   "execution_count": 104,
   "metadata": {},
   "outputs": [
    {
     "data": {
      "text/plain": [
       "array([1, 2, 3, 4, 5, 6])"
      ]
     },
     "execution_count": 104,
     "metadata": {},
     "output_type": "execute_result"
    }
   ],
   "source": [
    "import numpy as np\n",
    "a = np.array([1,2,3])\n",
    "b = np.array([4,5,6])\n",
    "np.concatenate((a,b))"
   ]
  },
  {
   "cell_type": "markdown",
   "metadata": {},
   "source": [
    "# 19.round a number"
   ]
  },
  {
   "cell_type": "code",
   "execution_count": 105,
   "metadata": {},
   "outputs": [
    {
     "data": {
      "text/plain": [
       "5.142"
      ]
     },
     "execution_count": 105,
     "metadata": {},
     "output_type": "execute_result"
    }
   ],
   "source": [
    "a = 5.142387\n",
    "round(a,3)"
   ]
  },
  {
   "cell_type": "markdown",
   "metadata": {},
   "source": [
    "# 20.slicing a list"
   ]
  },
  {
   "cell_type": "code",
   "execution_count": 107,
   "metadata": {},
   "outputs": [
    {
     "name": "stdout",
     "output_type": "stream",
     "text": [
      "[0, 1]\n",
      "[8, 9]\n",
      "[2, 3, 4, 5, 6, 7]\n",
      "[2, 4, 6]\n"
     ]
    }
   ],
   "source": [
    "a = list(range(0,10))\n",
    "print(a[:2])\n",
    "print(a[8:])\n",
    "print(a[2:8])\n",
    "print(a[2:8:2])"
   ]
  },
  {
   "cell_type": "markdown",
   "metadata": {},
   "source": [
    "# 21.pickling\n",
    "go-to method of serializing and deserializing object"
   ]
  },
  {
   "cell_type": "code",
   "execution_count": 109,
   "metadata": {},
   "outputs": [
    {
     "name": "stdout",
     "output_type": "stream",
     "text": [
      "{'Omkar': {'key': 'Omkar', 'name': 'Omkar Pathak', 'age': 21, 'pay': 40000}, 'Jagdish': {'key': 'Jagdish', 'name': 'Jagdish Pathak', 'age': 50, 'pay': 50000}}\n"
     ]
    }
   ],
   "source": [
    "# initializing data to be stored in db\n",
    "import pickle\n",
    "Omkar = {'key' : 'Omkar', 'name' : 'Omkar Pathak',\n",
    "'age' : 21, 'pay' : 40000}\n",
    "Jagdish = {'key' : 'Jagdish', 'name' : 'Jagdish Pathak',\n",
    "'age' : 50, 'pay' : 50000}\n",
    "\n",
    "# database\n",
    "db = {}\n",
    "db['Omkar'] = Omkar\n",
    "db['Jagdish'] = Jagdish\n",
    "\n",
    "# For storing\n",
    "b = pickle.dumps(db)\t # type(b) gives <class 'bytes'>\n",
    "\n",
    "# For loading\n",
    "myEntry = pickle.loads(b)\n",
    "print(myEntry)\n"
   ]
  },
  {
   "cell_type": "markdown",
   "metadata": {},
   "source": [
    "# 22.any() / all()"
   ]
  },
  {
   "cell_type": "code",
   "execution_count": 111,
   "metadata": {},
   "outputs": [
    {
     "name": "stdout",
     "output_type": "stream",
     "text": [
      "False\n",
      "True\n",
      "False\n",
      "False\n",
      "True\n"
     ]
    }
   ],
   "source": [
    "a = [False, False, False]\n",
    "b = [True, False, False]\n",
    "c = [True, True, True]\n",
    "print(any(a))\n",
    "print(any(b))\n",
    "\n",
    "print(all(a))\n",
    "print(all(b))\n",
    "print(all(c))"
   ]
  },
  {
   "cell_type": "markdown",
   "metadata": {},
   "source": [
    "# 23. increment/decrement an integer"
   ]
  },
  {
   "cell_type": "code",
   "execution_count": 112,
   "metadata": {},
   "outputs": [
    {
     "name": "stdout",
     "output_type": "stream",
     "text": [
      "6\n",
      "9\n"
     ]
    }
   ],
   "source": [
    "v = 5\n",
    "v += 1\n",
    "print(v)\n",
    "w = 10\n",
    "w -= 1\n",
    "print(w)"
   ]
  },
  {
   "cell_type": "markdown",
   "metadata": {},
   "source": [
    "# 24. binary of an integer"
   ]
  },
  {
   "cell_type": "code",
   "execution_count": 115,
   "metadata": {},
   "outputs": [
    {
     "data": {
      "text/plain": [
       "'0b11000011010100001'"
      ]
     },
     "execution_count": 115,
     "metadata": {},
     "output_type": "execute_result"
    }
   ],
   "source": [
    "bin(100001)"
   ]
  },
  {
   "cell_type": "markdown",
   "metadata": {},
   "source": [
    "# 25. remove duplicate elements from a list"
   ]
  },
  {
   "cell_type": "code",
   "execution_count": 116,
   "metadata": {},
   "outputs": [
    {
     "name": "stdout",
     "output_type": "stream",
     "text": [
      "[1, 1, 1, 2, 3]\n",
      "[1, 2, 3]\n"
     ]
    }
   ],
   "source": [
    "a = [1,1,1,2,3]\n",
    "print(a)\n",
    "b = list(set(a))\n",
    "print(b)"
   ]
  },
  {
   "cell_type": "markdown",
   "metadata": {},
   "source": [
    "# 26. check if a value exists\n",
    "use in"
   ]
  },
  {
   "cell_type": "code",
   "execution_count": 117,
   "metadata": {},
   "outputs": [
    {
     "data": {
      "text/plain": [
       "True"
      ]
     },
     "execution_count": 117,
     "metadata": {},
     "output_type": "execute_result"
    }
   ],
   "source": [
    "'a' in ['a','b','c']"
   ]
  },
  {
   "cell_type": "markdown",
   "metadata": {},
   "source": [
    "# 27. append/extend"
   ]
  },
  {
   "cell_type": "code",
   "execution_count": 121,
   "metadata": {},
   "outputs": [
    {
     "name": "stdout",
     "output_type": "stream",
     "text": [
      "[1, 2, 3, 7]\n"
     ]
    },
    {
     "data": {
      "text/plain": [
       "[4, 5, 6, 7, 11, 13]"
      ]
     },
     "execution_count": 121,
     "metadata": {},
     "output_type": "execute_result"
    }
   ],
   "source": [
    "a=[1,2,3]\n",
    "b=[4,5,6]\n",
    "a.append(7)\n",
    "print(a)\n",
    "b.extend([7,11,13])\n",
    "b"
   ]
  },
  {
   "cell_type": "markdown",
   "metadata": {},
   "source": [
    "# 28. absolute"
   ]
  },
  {
   "cell_type": "code",
   "execution_count": 122,
   "metadata": {},
   "outputs": [
    {
     "data": {
      "text/plain": [
       "2"
      ]
     },
     "execution_count": 122,
     "metadata": {},
     "output_type": "execute_result"
    }
   ],
   "source": [
    "abs(-2)"
   ]
  },
  {
   "cell_type": "markdown",
   "metadata": {},
   "source": [
    "# 29. combine 2 lists into a tuple\n",
    "use zip function"
   ]
  },
  {
   "cell_type": "code",
   "execution_count": 125,
   "metadata": {},
   "outputs": [
    {
     "name": "stdout",
     "output_type": "stream",
     "text": [
      "a 1\n",
      "b 2\n",
      "c 3\n"
     ]
    }
   ],
   "source": [
    "a=['a','b','c']\n",
    "b=[1,2,3]\n",
    "for k,v in zip(a,b):\n",
    "    print(k,v)"
   ]
  },
  {
   "cell_type": "markdown",
   "metadata": {},
   "source": [
    "#  30. sorting dictionary key alphabetically"
   ]
  },
  {
   "cell_type": "code",
   "execution_count": 128,
   "metadata": {},
   "outputs": [
    {
     "name": "stdout",
     "output_type": "stream",
     "text": [
      "{'c': 3, 'd': 4, 'a': 1}\n",
      "[('a', 1), ('c', 3), ('d', 4)]\n"
     ]
    }
   ],
   "source": [
    "d={'c': 3, 'd': 4, 'a':1}\n",
    "a = sorted(d.items())\n",
    "print(d)\n",
    "print(a)"
   ]
  },
  {
   "cell_type": "markdown",
   "metadata": {},
   "source": [
    "# 31. class inheritance"
   ]
  },
  {
   "cell_type": "code",
   "execution_count": 129,
   "metadata": {},
   "outputs": [
    {
     "name": "stdout",
     "output_type": "stream",
     "text": [
      "vroom\n"
     ]
    }
   ],
   "source": [
    "class car():\n",
    "    def drive(self):\n",
    "        print('vroom')\n",
    "class Audi(car):\n",
    "    pass\n",
    "audi = Audi()\n",
    "audi.drive()\n",
    "    "
   ]
  },
  {
   "cell_type": "markdown",
   "metadata": {},
   "source": [
    "# 32. remove white space"
   ]
  },
  {
   "cell_type": "code",
   "execution_count": 132,
   "metadata": {},
   "outputs": [
    {
     "name": "stdout",
     "output_type": "stream",
     "text": [
      "a  string  with    whitespace\n",
      "astringwithwhitespace\n",
      "astringwithwhitespace\n"
     ]
    }
   ],
   "source": [
    "s = 'a  string  with    whitespace'\n",
    "p =''.join(s.split())\n",
    "print(s)\n",
    "print(p)\n",
    "# more pythonic way\n",
    "print(s.replace(' ',''))"
   ]
  },
  {
   "cell_type": "markdown",
   "metadata": {},
   "source": [
    "# 33.  enumerate()\n",
    "allows tracking index when iterating"
   ]
  },
  {
   "cell_type": "code",
   "execution_count": 135,
   "metadata": {},
   "outputs": [
    {
     "name": "stdout",
     "output_type": "stream",
     "text": [
      "0 a\n",
      "1 b\n",
      "2 c\n",
      "3 d\n",
      "4 e\n"
     ]
    }
   ],
   "source": [
    "l = ['a', 'b','c','d','e']\n",
    "for idx, val in enumerate(l):\n",
    "    print(idx,val)\n",
    "   "
   ]
  },
  {
   "cell_type": "markdown",
   "metadata": {},
   "source": [
    "# 34. pass, continue, break\n",
    "pass - do nothing\n",
    "continue - continues to the next element and halts execution for current element\n",
    "break - breaks the loop"
   ]
  },
  {
   "cell_type": "code",
   "execution_count": 139,
   "metadata": {},
   "outputs": [
    {
     "name": "stdout",
     "output_type": "stream",
     "text": [
      "1\n",
      "2\n",
      "3\n",
      "4\n",
      "5\n",
      "6\n",
      "3\n",
      "4\n",
      "5\n",
      "6\n",
      "1\n",
      "2\n"
     ]
    }
   ],
   "source": [
    "a=[1,2,3,4,5,6]\n",
    "for i in a:\n",
    "    if i > 3:\n",
    "        pass\n",
    "    print(i)\n",
    "for i in a:\n",
    "    if i < 3:\n",
    "        continue\n",
    "    print(i)\n",
    "for i in a:\n",
    "    if i == 3:\n",
    "        break\n",
    "    print(i)"
   ]
  },
  {
   "cell_type": "markdown",
   "metadata": {},
   "source": [
    "# 35. convert for loop into a list comprehension"
   ]
  },
  {
   "cell_type": "code",
   "execution_count": 141,
   "metadata": {},
   "outputs": [
    {
     "name": "stdout",
     "output_type": "stream",
     "text": [
      "[2]\n",
      "[2, 3]\n",
      "[2, 3, 4]\n",
      "[2, 3, 4, 5]\n",
      "[2, 3, 4, 5, 6]\n",
      "[2, 3, 4, 5, 6]\n"
     ]
    }
   ],
   "source": [
    "a=[1,2,3,4,5]\n",
    "a2=[]\n",
    "for i in a:\n",
    "    a2.append(i+1)\n",
    "    print(a2)\n",
    "print(a2)\n",
    "a3 = "
   ]
  },
  {
   "cell_type": "markdown",
   "metadata": {},
   "source": [
    "# 36 ternary operator\n",
    "a one-line if/else statement"
   ]
  },
  {
   "cell_type": "code",
   "execution_count": 143,
   "metadata": {},
   "outputs": [
    {
     "name": "stdout",
     "output_type": "stream",
     "text": [
      "Even\n"
     ]
    }
   ],
   "source": [
    "to_check = 6\n",
    "msg = 'Even' if to_check%2==0 else 'Odd'\n",
    "print(msg)"
   ]
  },
  {
   "cell_type": "markdown",
   "metadata": {},
   "source": [
    "# 37. check if a string contains numbers, letters or only one of them\n",
    "isnumeric(), isalpha(), isalnum("
   ]
  },
  {
   "cell_type": "code",
   "execution_count": 148,
   "metadata": {},
   "outputs": [
    {
     "name": "stdout",
     "output_type": "stream",
     "text": [
      "False\n",
      "True\n",
      "False\n",
      "True\n",
      "True\n"
     ]
    }
   ],
   "source": [
    "print('123a'.isnumeric())\n",
    "print('123'.isnumeric())\n",
    "print('123a'.isalpha())\n",
    "print('a'.isalpha())\n",
    "print('123a'.isalnum())"
   ]
  },
  {
   "cell_type": "markdown",
   "metadata": {},
   "source": [
    "# 38. return a list of keys from a dictionary"
   ]
  },
  {
   "cell_type": "code",
   "execution_count": 153,
   "metadata": {},
   "outputs": [
    {
     "name": "stdout",
     "output_type": "stream",
     "text": [
      "['id', 'name', 'color', 'speed']\n",
      "['id', 'name', 'color', 'speed']\n"
     ]
    },
    {
     "data": {
      "text/plain": [
       "[7, 'Ave', 'teal', 'slow']"
      ]
     },
     "execution_count": 153,
     "metadata": {},
     "output_type": "execute_result"
    }
   ],
   "source": [
    "d ={'id': 7, 'name': 'Ave', 'color': 'teal', 'speed': 'slow'}\n",
    "print(list(d))\n",
    "print(list(d.keys()))\n",
    "list(d.values())"
   ]
  },
  {
   "cell_type": "markdown",
   "metadata": {},
   "source": [
    "# 39. upper/lowercase string"
   ]
  },
  {
   "cell_type": "code",
   "execution_count": 155,
   "metadata": {},
   "outputs": [
    {
     "name": "stdout",
     "output_type": "stream",
     "text": [
      "WRETCHED WORLD\n"
     ]
    },
    {
     "data": {
      "text/plain": [
       "'wretched world'"
      ]
     },
     "execution_count": 155,
     "metadata": {},
     "output_type": "execute_result"
    }
   ],
   "source": [
    "s = 'Wretched World'\n",
    "print(s.upper())\n",
    "s.lower()"
   ]
  },
  {
   "cell_type": "markdown",
   "metadata": {},
   "source": [
    "# 40. remove, del, pop\n",
    "remove - remove the 1st matching value, del - remove an element by index, pop - removes an element by index and returns it"
   ]
  },
  {
   "cell_type": "code",
   "execution_count": 160,
   "metadata": {},
   "outputs": [
    {
     "name": "stdout",
     "output_type": "stream",
     "text": [
      "['a', 'c', 'd', 'e']\n",
      "['c', 'd', 'e']\n"
     ]
    },
    {
     "data": {
      "text/plain": [
       "'d'"
      ]
     },
     "execution_count": 160,
     "metadata": {},
     "output_type": "execute_result"
    }
   ],
   "source": [
    "a = ['a', 'b', 'c','d','e']\n",
    "a.remove('b')\n",
    "print(a)\n",
    "del a[0]\n",
    "print(a)\n",
    "a.pop(1)"
   ]
  },
  {
   "cell_type": "markdown",
   "metadata": {},
   "source": [
    "# 41. Dictionary comprehension"
   ]
  },
  {
   "cell_type": "code",
   "execution_count": 161,
   "metadata": {},
   "outputs": [
    {
     "data": {
      "text/plain": [
       "{'a': 0,\n",
       " 'b': 1,\n",
       " 'c': 2,\n",
       " 'd': 3,\n",
       " 'e': 4,\n",
       " 'f': 5,\n",
       " 'g': 6,\n",
       " 'h': 7,\n",
       " 'i': 8,\n",
       " 'j': 9,\n",
       " 'k': 10,\n",
       " 'l': 11,\n",
       " 'm': 12,\n",
       " 'n': 13,\n",
       " 'o': 14,\n",
       " 'p': 15,\n",
       " 'q': 16,\n",
       " 'r': 17,\n",
       " 's': 18,\n",
       " 't': 19,\n",
       " 'u': 20,\n",
       " 'v': 21,\n",
       " 'w': 22,\n",
       " 'x': 23,\n",
       " 'y': 24,\n",
       " 'z': 25}"
      ]
     },
     "execution_count": 161,
     "metadata": {},
     "output_type": "execute_result"
    }
   ],
   "source": [
    "# creating a list of letters\n",
    "import string\n",
    "list(string.ascii_lowercase)\n",
    "alphabet= list(string.ascii_lowercase)\n",
    "d = {val:idx for idx, val in enumerate(alphabet)}\n",
    "d"
   ]
  },
  {
   "cell_type": "markdown",
   "metadata": {},
   "source": [
    "# 42. exception handling\n",
    "try, except, finally"
   ]
  },
  {
   "cell_type": "code",
   "execution_count": 164,
   "metadata": {},
   "outputs": [
    {
     "name": "stdout",
     "output_type": "stream",
     "text": [
      "Complete\n",
      "val= e\n"
     ]
    }
   ],
   "source": [
    "try:\n",
    "    val = 1 + 'A'\n",
    "except:\n",
    "    A = 10\n",
    "finally:\n",
    "    print('Complete')\n",
    "    print('val=', val)"
   ]
  },
  {
   "cell_type": "code",
   "execution_count": 163,
   "metadata": {},
   "outputs": [
    {
     "data": {
      "text/plain": [
       "'e'"
      ]
     },
     "execution_count": 163,
     "metadata": {},
     "output_type": "execute_result"
    }
   ],
   "source": [
    "val"
   ]
  },
  {
   "cell_type": "code",
   "execution_count": null,
   "metadata": {},
   "outputs": [],
   "source": []
  }
 ],
 "metadata": {
  "kernelspec": {
   "display_name": "Python 3",
   "language": "python",
   "name": "python3"
  },
  "language_info": {
   "codemirror_mode": {
    "name": "ipython",
    "version": 3
   },
   "file_extension": ".py",
   "mimetype": "text/x-python",
   "name": "python",
   "nbconvert_exporter": "python",
   "pygments_lexer": "ipython3",
   "version": "3.8.3"
  }
 },
 "nbformat": 4,
 "nbformat_minor": 4
}
