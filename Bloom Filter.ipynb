{
 "cells": [
  {
   "cell_type": "markdown",
   "metadata": {},
   "source": [
    "# Bloom Filter"
   ]
  },
  {
   "cell_type": "code",
   "execution_count": 2,
   "metadata": {},
   "outputs": [],
   "source": [
    "import math\n",
    "import mmh3\n",
    "from bitarray import bitarray\n",
    "class bloomfilter(object):\n",
    "    \"\"\"class for bloom filter, using murmur3 hash function\"\"\"\n",
    "    def __init__(self,items_count, fp_prob):\n",
    "        self.fp_prob = fp_prob  # false positive\n",
    "        self.size = self.get_size(items_count, fp_prob)\n",
    "        self.hash_count = self.get_hash_count(self.size, items_count)\n",
    "        self.bit_array = bitarray(self.size)\n",
    "        # initialize all bits as 0\n",
    "        self.bit_array.setall(0)\n",
    "    def add(self, item):\n",
    "        digests = []\n",
    "        for i in range(self.hash_count):\n",
    "            digest = mmh3.hash(item, i) % self.size\n",
    "            digests.append(digest)\n",
    "            self.bit_array[digest] = true\n",
    "    def check(self, item):\n",
    "        for i in range(self.hash_count):\n",
    "            digest = mmh3.hash(item,i) % self.size\n",
    "            if self.bit_array[digest] == False:\n",
    "                return False\n",
    "        return True\n",
    "    @classmethod\n",
    "    def get_size(self, n, p):\n",
    "        m = -(n * math.log(p)/(math.log(2)**2))\n",
    "        return int(m)\n",
    "    @classmethod\n",
    "    def get_hash_count(self, m, n):\n",
    "        k = (m/n) * math.log(2)\n",
    "        return int(k)"
   ]
  },
  {
   "cell_type": "code",
   "execution_count": 3,
   "metadata": {},
   "outputs": [
    {
     "name": "stdout",
     "output_type": "stream",
     "text": [
      "Size of bit array:28\n",
      "False positive probability:0.5\n",
      "Number of Hash Functions:0\n",
      "'geeksforgeeks' is a false positive!\n",
      "'humanity' is a false positive!\n",
      "'generously' is probably present!\n",
      "'facebook' is a false positive!\n",
      "'abound' is probably present!\n",
      "'cheater' is a false positive!\n",
      "'gloomy' is a false positive!\n",
      "'bluff' is a false positive!\n",
      "'bonny' is probably present!\n",
      "'generous' is probably present!\n",
      "'cohesive' is probably present!\n",
      "'twitter' is a false positive!\n",
      "'comfort' is probably present!\n",
      "'generosity' is probably present!\n",
      "'nuke' is a false positive!\n",
      "'racism' is a false positive!\n",
      "'bonus' is probably present!\n",
      "'gems' is probably present!\n",
      "'hurt' is a false positive!\n",
      "'bonuses' is probably present!\n",
      "'war' is a false positive!\n",
      "'hate' is a false positive!\n"
     ]
    }
   ],
   "source": [
    "from random import shuffle\n",
    "n = 20 # no. of items to add\n",
    "p = 0.5 # false positive probability\n",
    "bloomf = bloomfilter(n,p)\n",
    "print('Size of bit array:{}'.format(bloomf.size))\n",
    "print('False positive probability:{}'.format(bloomf.fp_prob))\n",
    "print('Number of Hash Functions:{}'.format(bloomf.hash_count))\n",
    "# words to be added\n",
    "word_present = ['abound','abounds','abundance','abundant','accessible',\n",
    "                'bloom','blossom','bolster','bonny','bonus','bonuses',\n",
    "                'coherent','cohesive','colorful','comely','comfort',\n",
    "                'gems','generosity','generous','generously','genial']\n",
    " \n",
    "# word not added\n",
    "word_absent = ['bluff','cheater','hate','war','humanity',\n",
    "               'racism','hurt','nuke','gloomy','facebook',\n",
    "               'geeksforgeeks','twitter']\n",
    "for item in word_present:\n",
    "    bloomf.add(item)\n",
    "shuffle(word_present)\n",
    "shuffle(word_absent)\n",
    "test_words = word_present[:10] + word_absent\n",
    "shuffle(test_words)\n",
    "shuffle(test_words)\n",
    "for word in test_words:\n",
    "    if bloomf.check(word):\n",
    "        if word in word_absent:\n",
    "            print(\"'{}' is a false positive!\".format(word))\n",
    "        else:\n",
    "            print(\"'{}' is probably present!\".format(word))\n",
    "    else:\n",
    "        print(\"'{}' is definitely not present!\".format(word))\n"
   ]
  },
  {
   "cell_type": "code",
   "execution_count": null,
   "metadata": {},
   "outputs": [],
   "source": []
  }
 ],
 "metadata": {
  "kernelspec": {
   "display_name": "Python 3",
   "language": "python",
   "name": "python3"
  },
  "language_info": {
   "codemirror_mode": {
    "name": "ipython",
    "version": 3
   },
   "file_extension": ".py",
   "mimetype": "text/x-python",
   "name": "python",
   "nbconvert_exporter": "python",
   "pygments_lexer": "ipython3",
   "version": "3.8.3"
  }
 },
 "nbformat": 4,
 "nbformat_minor": 4
}
