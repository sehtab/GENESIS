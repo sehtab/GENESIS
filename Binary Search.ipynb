{
 "cells": [
  {
   "cell_type": "markdown",
   "metadata": {},
   "source": [
    "# Binary Search"
   ]
  },
  {
   "cell_type": "code",
   "execution_count": 9,
   "metadata": {},
   "outputs": [
    {
     "name": "stdout",
     "output_type": "stream",
     "text": [
      "[8, 9, 12, 15, 17, 19, 20, 21, 28]\n",
      "6\n"
     ]
    }
   ],
   "source": [
    "import math\n",
    "def binarysearch(array,value):\n",
    "    start = 0\n",
    "    end = len(array) - 1\n",
    "    middle  = math.floor((start+end)/2)\n",
    "    \n",
    "    while not(array[middle] == value):\n",
    "        if value < array[middle]:\n",
    "            end = middle - 1\n",
    "        else:\n",
    "            start = middle + 1\n",
    "        middle = math.floor((start+end)/2)\n",
    "        #print(start, middle, end)\n",
    "    if array[middle] == value:\n",
    "        return middle\n",
    "    else:\n",
    "        return  -1\n",
    "    \n",
    "c = [8,9,12,15,17,19,20,21,28]\n",
    "print(c)\n",
    "print(binarysearch(c,20))\n",
    "#print(binarysearch(c,30))"
   ]
  },
  {
   "cell_type": "markdown",
   "metadata": {},
   "source": [
    "## Time Complexity : O(log n)      Space Complexity: O(1)"
   ]
  },
  {
   "cell_type": "code",
   "execution_count": null,
   "metadata": {},
   "outputs": [],
   "source": []
  }
 ],
 "metadata": {
  "kernelspec": {
   "display_name": "Python 3",
   "language": "python",
   "name": "python3"
  },
  "language_info": {
   "codemirror_mode": {
    "name": "ipython",
    "version": 3
   },
   "file_extension": ".py",
   "mimetype": "text/x-python",
   "name": "python",
   "nbconvert_exporter": "python",
   "pygments_lexer": "ipython3",
   "version": "3.8.3"
  }
 },
 "nbformat": 4,
 "nbformat_minor": 4
}
