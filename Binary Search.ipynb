{
 "cells": [
  {
   "cell_type": "markdown",
   "metadata": {},
   "source": [
    "# Binary Search"
   ]
  },
  {
   "cell_type": "code",
   "execution_count": 2,
   "metadata": {},
   "outputs": [
    {
     "name": "stdout",
     "output_type": "stream",
     "text": [
      "[8, 9, 12, 15, 17, 19, 20, 21, 28]\n",
      "6\n",
      "Program Time: 0.0008139960000335122 seconds\n"
     ]
    }
   ],
   "source": [
    "import math\n",
    "import timeit\n",
    "start= timeit.default_timer()\n",
    "def binarysearch(array,value):\n",
    "    start = 0\n",
    "    end = len(array) - 1\n",
    "    middle  = math.floor((start+end)/2)\n",
    "    \n",
    "    while not(array[middle] == value):\n",
    "        if value < array[middle]:\n",
    "            end = middle - 1\n",
    "        else:\n",
    "            start = middle + 1\n",
    "        middle = math.floor((start+end)/2)\n",
    "        #print(start, middle, end)\n",
    "    if array[middle] == value:\n",
    "        return middle\n",
    "    else:\n",
    "        return  -1\n",
    "    \n",
    "c = [8,9,12,15,17,19,20,21,28]\n",
    "print(c)\n",
    "print(binarysearch(c,20))\n",
    "#print(binarysearch(c,30))\n",
    "stop = timeit.default_timer()\n",
    "execution_time = stop - start\n",
    "print(f'Program Time: {execution_time} seconds')"
   ]
  },
  {
   "cell_type": "markdown",
   "metadata": {},
   "source": [
    "## Time Complexity : O(log n)      Space Complexity: O(1)"
   ]
  },
  {
   "cell_type": "code",
   "execution_count": null,
   "metadata": {},
   "outputs": [],
   "source": []
  }
 ],
 "metadata": {
  "kernelspec": {
   "display_name": "Python 3",
   "language": "python",
   "name": "python3"
  },
  "language_info": {
   "codemirror_mode": {
    "name": "ipython",
    "version": 3
   },
   "file_extension": ".py",
   "mimetype": "text/x-python",
   "name": "python",
   "nbconvert_exporter": "python",
   "pygments_lexer": "ipython3",
   "version": "3.8.3"
  }
 },
 "nbformat": 4,
 "nbformat_minor": 4
}
